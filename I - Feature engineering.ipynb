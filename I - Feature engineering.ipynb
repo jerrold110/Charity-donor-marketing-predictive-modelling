{
 "cells": [
  {
   "cell_type": "code",
   "execution_count": 1,
   "id": "655530af",
   "metadata": {},
   "outputs": [],
   "source": [
    "import pandas as pd\n",
    "import numpy as np"
   ]
  },
  {
   "cell_type": "code",
   "execution_count": 2,
   "id": "1cab1b55",
   "metadata": {},
   "outputs": [
    {
     "data": {
      "text/plain": [
       "(25000, 14)"
      ]
     },
     "execution_count": 2,
     "metadata": {},
     "output_type": "execute_result"
    }
   ],
   "source": [
    "donors = pd.read_csv('data/donations.csv')\n",
    "donors.shape"
   ]
  },
  {
   "cell_type": "code",
   "execution_count": 3,
   "id": "23bc1ab0",
   "metadata": {},
   "outputs": [
    {
     "data": {
      "text/plain": [
       "target                     int64\n",
       "gender_F                   int64\n",
       "income_high                int64\n",
       "income_low                 int64\n",
       "country_USA                int64\n",
       "country_India              int64\n",
       "country_UK                 int64\n",
       "age                        int64\n",
       "time_since_last_gift       int64\n",
       "time_since_first_gift      int64\n",
       "max_gift                 float64\n",
       "min_gift                 float64\n",
       "mean_gift                float64\n",
       "number_gift                int64\n",
       "dtype: object"
      ]
     },
     "execution_count": 3,
     "metadata": {},
     "output_type": "execute_result"
    }
   ],
   "source": [
    "donors.dtypes"
   ]
  },
  {
   "cell_type": "code",
   "execution_count": 4,
   "id": "3f7816e0",
   "metadata": {},
   "outputs": [
    {
     "data": {
      "text/html": [
       "<div>\n",
       "<style scoped>\n",
       "    .dataframe tbody tr th:only-of-type {\n",
       "        vertical-align: middle;\n",
       "    }\n",
       "\n",
       "    .dataframe tbody tr th {\n",
       "        vertical-align: top;\n",
       "    }\n",
       "\n",
       "    .dataframe thead th {\n",
       "        text-align: right;\n",
       "    }\n",
       "</style>\n",
       "<table border=\"1\" class=\"dataframe\">\n",
       "  <thead>\n",
       "    <tr style=\"text-align: right;\">\n",
       "      <th></th>\n",
       "      <th>target</th>\n",
       "      <th>gender_F</th>\n",
       "      <th>income_high</th>\n",
       "      <th>income_low</th>\n",
       "      <th>country_USA</th>\n",
       "      <th>country_India</th>\n",
       "      <th>country_UK</th>\n",
       "      <th>age</th>\n",
       "      <th>time_since_last_gift</th>\n",
       "      <th>time_since_first_gift</th>\n",
       "      <th>max_gift</th>\n",
       "      <th>min_gift</th>\n",
       "      <th>mean_gift</th>\n",
       "      <th>number_gift</th>\n",
       "    </tr>\n",
       "  </thead>\n",
       "  <tbody>\n",
       "    <tr>\n",
       "      <th>0</th>\n",
       "      <td>0</td>\n",
       "      <td>1</td>\n",
       "      <td>0</td>\n",
       "      <td>1</td>\n",
       "      <td>0</td>\n",
       "      <td>1</td>\n",
       "      <td>0</td>\n",
       "      <td>65</td>\n",
       "      <td>530</td>\n",
       "      <td>2265</td>\n",
       "      <td>166.0</td>\n",
       "      <td>87.0</td>\n",
       "      <td>116.00</td>\n",
       "      <td>7</td>\n",
       "    </tr>\n",
       "    <tr>\n",
       "      <th>1</th>\n",
       "      <td>0</td>\n",
       "      <td>1</td>\n",
       "      <td>0</td>\n",
       "      <td>0</td>\n",
       "      <td>0</td>\n",
       "      <td>1</td>\n",
       "      <td>0</td>\n",
       "      <td>71</td>\n",
       "      <td>715</td>\n",
       "      <td>715</td>\n",
       "      <td>90.0</td>\n",
       "      <td>90.0</td>\n",
       "      <td>90.00</td>\n",
       "      <td>1</td>\n",
       "    </tr>\n",
       "    <tr>\n",
       "      <th>2</th>\n",
       "      <td>0</td>\n",
       "      <td>1</td>\n",
       "      <td>0</td>\n",
       "      <td>0</td>\n",
       "      <td>0</td>\n",
       "      <td>1</td>\n",
       "      <td>0</td>\n",
       "      <td>28</td>\n",
       "      <td>150</td>\n",
       "      <td>1806</td>\n",
       "      <td>125.0</td>\n",
       "      <td>74.0</td>\n",
       "      <td>96.00</td>\n",
       "      <td>9</td>\n",
       "    </tr>\n",
       "    <tr>\n",
       "      <th>3</th>\n",
       "      <td>0</td>\n",
       "      <td>1</td>\n",
       "      <td>0</td>\n",
       "      <td>1</td>\n",
       "      <td>1</td>\n",
       "      <td>0</td>\n",
       "      <td>0</td>\n",
       "      <td>52</td>\n",
       "      <td>725</td>\n",
       "      <td>2274</td>\n",
       "      <td>117.0</td>\n",
       "      <td>97.0</td>\n",
       "      <td>104.25</td>\n",
       "      <td>4</td>\n",
       "    </tr>\n",
       "    <tr>\n",
       "      <th>4</th>\n",
       "      <td>0</td>\n",
       "      <td>1</td>\n",
       "      <td>1</td>\n",
       "      <td>0</td>\n",
       "      <td>1</td>\n",
       "      <td>0</td>\n",
       "      <td>0</td>\n",
       "      <td>82</td>\n",
       "      <td>805</td>\n",
       "      <td>805</td>\n",
       "      <td>80.0</td>\n",
       "      <td>80.0</td>\n",
       "      <td>80.00</td>\n",
       "      <td>1</td>\n",
       "    </tr>\n",
       "  </tbody>\n",
       "</table>\n",
       "</div>"
      ],
      "text/plain": [
       "   target  gender_F  income_high  income_low  country_USA  country_India  \\\n",
       "0       0         1            0           1            0              1   \n",
       "1       0         1            0           0            0              1   \n",
       "2       0         1            0           0            0              1   \n",
       "3       0         1            0           1            1              0   \n",
       "4       0         1            1           0            1              0   \n",
       "\n",
       "   country_UK  age  time_since_last_gift  time_since_first_gift  max_gift  \\\n",
       "0           0   65                   530                   2265     166.0   \n",
       "1           0   71                   715                    715      90.0   \n",
       "2           0   28                   150                   1806     125.0   \n",
       "3           0   52                   725                   2274     117.0   \n",
       "4           0   82                   805                    805      80.0   \n",
       "\n",
       "   min_gift  mean_gift  number_gift  \n",
       "0      87.0     116.00            7  \n",
       "1      90.0      90.00            1  \n",
       "2      74.0      96.00            9  \n",
       "3      97.0     104.25            4  \n",
       "4      80.0      80.00            1  "
      ]
     },
     "execution_count": 4,
     "metadata": {},
     "output_type": "execute_result"
    }
   ],
   "source": [
    "donors.head()"
   ]
  },
  {
   "cell_type": "code",
   "execution_count": 5,
   "id": "79935bb3",
   "metadata": {},
   "outputs": [
    {
     "data": {
      "text/html": [
       "<div>\n",
       "<style scoped>\n",
       "    .dataframe tbody tr th:only-of-type {\n",
       "        vertical-align: middle;\n",
       "    }\n",
       "\n",
       "    .dataframe tbody tr th {\n",
       "        vertical-align: top;\n",
       "    }\n",
       "\n",
       "    .dataframe thead th {\n",
       "        text-align: right;\n",
       "    }\n",
       "</style>\n",
       "<table border=\"1\" class=\"dataframe\">\n",
       "  <thead>\n",
       "    <tr style=\"text-align: right;\">\n",
       "      <th></th>\n",
       "      <th>target</th>\n",
       "      <th>gender_F</th>\n",
       "      <th>income_high</th>\n",
       "      <th>income_low</th>\n",
       "      <th>country_USA</th>\n",
       "      <th>country_India</th>\n",
       "      <th>country_UK</th>\n",
       "      <th>age</th>\n",
       "      <th>time_since_last_gift</th>\n",
       "      <th>time_since_first_gift</th>\n",
       "      <th>max_gift</th>\n",
       "      <th>min_gift</th>\n",
       "      <th>mean_gift</th>\n",
       "      <th>number_gift</th>\n",
       "    </tr>\n",
       "  </thead>\n",
       "  <tbody>\n",
       "    <tr>\n",
       "      <th>count</th>\n",
       "      <td>25000.000000</td>\n",
       "      <td>25000.00000</td>\n",
       "      <td>25000.000000</td>\n",
       "      <td>25000.000000</td>\n",
       "      <td>25000.000000</td>\n",
       "      <td>25000.000000</td>\n",
       "      <td>25000.000000</td>\n",
       "      <td>25000.000000</td>\n",
       "      <td>25000.000000</td>\n",
       "      <td>25000.00000</td>\n",
       "      <td>25000.000000</td>\n",
       "      <td>25000.000000</td>\n",
       "      <td>25000.000000</td>\n",
       "      <td>25000.00000</td>\n",
       "    </tr>\n",
       "    <tr>\n",
       "      <th>mean</th>\n",
       "      <td>0.047480</td>\n",
       "      <td>0.50316</td>\n",
       "      <td>0.164320</td>\n",
       "      <td>0.208200</td>\n",
       "      <td>0.402920</td>\n",
       "      <td>0.495160</td>\n",
       "      <td>0.101920</td>\n",
       "      <td>53.605080</td>\n",
       "      <td>757.845560</td>\n",
       "      <td>2152.18212</td>\n",
       "      <td>111.167640</td>\n",
       "      <td>69.830680</td>\n",
       "      <td>90.455932</td>\n",
       "      <td>5.22572</td>\n",
       "    </tr>\n",
       "    <tr>\n",
       "      <th>std</th>\n",
       "      <td>0.212667</td>\n",
       "      <td>0.50000</td>\n",
       "      <td>0.370573</td>\n",
       "      <td>0.406029</td>\n",
       "      <td>0.490495</td>\n",
       "      <td>0.499987</td>\n",
       "      <td>0.302549</td>\n",
       "      <td>17.382771</td>\n",
       "      <td>342.286498</td>\n",
       "      <td>658.40422</td>\n",
       "      <td>20.377627</td>\n",
       "      <td>20.085216</td>\n",
       "      <td>15.466240</td>\n",
       "      <td>2.83908</td>\n",
       "    </tr>\n",
       "    <tr>\n",
       "      <th>min</th>\n",
       "      <td>0.000000</td>\n",
       "      <td>0.00000</td>\n",
       "      <td>0.000000</td>\n",
       "      <td>0.000000</td>\n",
       "      <td>0.000000</td>\n",
       "      <td>0.000000</td>\n",
       "      <td>0.000000</td>\n",
       "      <td>19.000000</td>\n",
       "      <td>32.000000</td>\n",
       "      <td>32.00000</td>\n",
       "      <td>18.000000</td>\n",
       "      <td>2.000000</td>\n",
       "      <td>18.000000</td>\n",
       "      <td>1.00000</td>\n",
       "    </tr>\n",
       "    <tr>\n",
       "      <th>25%</th>\n",
       "      <td>0.000000</td>\n",
       "      <td>0.00000</td>\n",
       "      <td>0.000000</td>\n",
       "      <td>0.000000</td>\n",
       "      <td>0.000000</td>\n",
       "      <td>0.000000</td>\n",
       "      <td>0.000000</td>\n",
       "      <td>41.000000</td>\n",
       "      <td>519.000000</td>\n",
       "      <td>1915.00000</td>\n",
       "      <td>99.000000</td>\n",
       "      <td>56.000000</td>\n",
       "      <td>80.666667</td>\n",
       "      <td>3.00000</td>\n",
       "    </tr>\n",
       "    <tr>\n",
       "      <th>50%</th>\n",
       "      <td>0.000000</td>\n",
       "      <td>1.00000</td>\n",
       "      <td>0.000000</td>\n",
       "      <td>0.000000</td>\n",
       "      <td>0.000000</td>\n",
       "      <td>0.000000</td>\n",
       "      <td>0.000000</td>\n",
       "      <td>54.000000</td>\n",
       "      <td>736.000000</td>\n",
       "      <td>2414.00000</td>\n",
       "      <td>112.000000</td>\n",
       "      <td>69.000000</td>\n",
       "      <td>90.571429</td>\n",
       "      <td>5.00000</td>\n",
       "    </tr>\n",
       "    <tr>\n",
       "      <th>75%</th>\n",
       "      <td>0.000000</td>\n",
       "      <td>1.00000</td>\n",
       "      <td>0.000000</td>\n",
       "      <td>0.000000</td>\n",
       "      <td>1.000000</td>\n",
       "      <td>1.000000</td>\n",
       "      <td>0.000000</td>\n",
       "      <td>64.000000</td>\n",
       "      <td>985.000000</td>\n",
       "      <td>2633.00000</td>\n",
       "      <td>125.000000</td>\n",
       "      <td>82.000000</td>\n",
       "      <td>100.444444</td>\n",
       "      <td>7.00000</td>\n",
       "    </tr>\n",
       "    <tr>\n",
       "      <th>max</th>\n",
       "      <td>1.000000</td>\n",
       "      <td>1.00000</td>\n",
       "      <td>1.000000</td>\n",
       "      <td>1.000000</td>\n",
       "      <td>1.000000</td>\n",
       "      <td>1.000000</td>\n",
       "      <td>1.000000</td>\n",
       "      <td>109.000000</td>\n",
       "      <td>2305.000000</td>\n",
       "      <td>2771.00000</td>\n",
       "      <td>194.000000</td>\n",
       "      <td>194.000000</td>\n",
       "      <td>194.000000</td>\n",
       "      <td>18.00000</td>\n",
       "    </tr>\n",
       "  </tbody>\n",
       "</table>\n",
       "</div>"
      ],
      "text/plain": [
       "             target     gender_F   income_high    income_low   country_USA  \\\n",
       "count  25000.000000  25000.00000  25000.000000  25000.000000  25000.000000   \n",
       "mean       0.047480      0.50316      0.164320      0.208200      0.402920   \n",
       "std        0.212667      0.50000      0.370573      0.406029      0.490495   \n",
       "min        0.000000      0.00000      0.000000      0.000000      0.000000   \n",
       "25%        0.000000      0.00000      0.000000      0.000000      0.000000   \n",
       "50%        0.000000      1.00000      0.000000      0.000000      0.000000   \n",
       "75%        0.000000      1.00000      0.000000      0.000000      1.000000   \n",
       "max        1.000000      1.00000      1.000000      1.000000      1.000000   \n",
       "\n",
       "       country_India    country_UK           age  time_since_last_gift  \\\n",
       "count   25000.000000  25000.000000  25000.000000          25000.000000   \n",
       "mean        0.495160      0.101920     53.605080            757.845560   \n",
       "std         0.499987      0.302549     17.382771            342.286498   \n",
       "min         0.000000      0.000000     19.000000             32.000000   \n",
       "25%         0.000000      0.000000     41.000000            519.000000   \n",
       "50%         0.000000      0.000000     54.000000            736.000000   \n",
       "75%         1.000000      0.000000     64.000000            985.000000   \n",
       "max         1.000000      1.000000    109.000000           2305.000000   \n",
       "\n",
       "       time_since_first_gift      max_gift      min_gift     mean_gift  \\\n",
       "count            25000.00000  25000.000000  25000.000000  25000.000000   \n",
       "mean              2152.18212    111.167640     69.830680     90.455932   \n",
       "std                658.40422     20.377627     20.085216     15.466240   \n",
       "min                 32.00000     18.000000      2.000000     18.000000   \n",
       "25%               1915.00000     99.000000     56.000000     80.666667   \n",
       "50%               2414.00000    112.000000     69.000000     90.571429   \n",
       "75%               2633.00000    125.000000     82.000000    100.444444   \n",
       "max               2771.00000    194.000000    194.000000    194.000000   \n",
       "\n",
       "       number_gift  \n",
       "count  25000.00000  \n",
       "mean       5.22572  \n",
       "std        2.83908  \n",
       "min        1.00000  \n",
       "25%        3.00000  \n",
       "50%        5.00000  \n",
       "75%        7.00000  \n",
       "max       18.00000  "
      ]
     },
     "execution_count": 5,
     "metadata": {},
     "output_type": "execute_result"
    }
   ],
   "source": [
    "donors.describe()"
   ]
  },
  {
   "cell_type": "code",
   "execution_count": 6,
   "id": "dc7f85b8",
   "metadata": {},
   "outputs": [
    {
     "name": "stdout",
     "output_type": "stream",
     "text": [
      "1187 donors out of 25000\n"
     ]
    }
   ],
   "source": [
    "q = 'target'\n",
    "print(f'{sum(donors[q])} donors out of {donors.shape[0]}')"
   ]
  },
  {
   "cell_type": "code",
   "execution_count": 7,
   "id": "6cd4b25b",
   "metadata": {},
   "outputs": [
    {
     "name": "stdout",
     "output_type": "stream",
     "text": [
      "25000\n",
      "9313\n"
     ]
    }
   ],
   "source": [
    "# Is each client from either USA/India/UK?\n",
    "print(sum(donors.country_USA) + sum(donors.country_India) + sum(donors.country_UK))\n",
    "\n",
    "# Is each client either high or low income?\n",
    "print(sum(donors.income_high) + sum(donors.income_low))"
   ]
  },
  {
   "cell_type": "markdown",
   "id": "3e282540",
   "metadata": {},
   "source": [
    "Clients are from either Usa/Ind/Uk"
   ]
  },
  {
   "cell_type": "markdown",
   "id": "cf7ee0cc",
   "metadata": {},
   "source": [
    "# Feature engineering\n",
    "- Is this a one-time donor?\n",
    "- Time since first and last gift\n",
    "- Total gift\n",
    "- Average gift per time"
   ]
  },
  {
   "cell_type": "code",
   "execution_count": 8,
   "id": "c96972bd",
   "metadata": {},
   "outputs": [
    {
     "name": "stdout",
     "output_type": "stream",
     "text": [
      "0\n",
      "2954\n"
     ]
    }
   ],
   "source": [
    "# are donors with time_since_first_and_last_gift consistent with number_gift = 1??\n",
    "donors['time_since_first_and_last_gift'] = donors['time_since_first_gift'] - donors['time_since_last_gift']\n",
    "print(len(donors[(donors['time_since_first_and_last_gift']==0) & (donors['number_gift']!=1)]))\n",
    "print(len(donors[(donors['time_since_first_and_last_gift']==0) & (donors['number_gift']==1)]))\n",
    "\n",
    "# yes they are"
   ]
  },
  {
   "cell_type": "code",
   "execution_count": 9,
   "id": "bc4afabb",
   "metadata": {},
   "outputs": [],
   "source": [
    "# assign one_time_donor\n",
    "donors['one_time_donor'] = 0\n",
    "donors.loc[(donors['number_gift']==1), 'one_time_donor']= 1"
   ]
  },
  {
   "cell_type": "code",
   "execution_count": 10,
   "id": "654e1428",
   "metadata": {},
   "outputs": [
    {
     "data": {
      "text/html": [
       "<div>\n",
       "<style scoped>\n",
       "    .dataframe tbody tr th:only-of-type {\n",
       "        vertical-align: middle;\n",
       "    }\n",
       "\n",
       "    .dataframe tbody tr th {\n",
       "        vertical-align: top;\n",
       "    }\n",
       "\n",
       "    .dataframe thead th {\n",
       "        text-align: right;\n",
       "    }\n",
       "</style>\n",
       "<table border=\"1\" class=\"dataframe\">\n",
       "  <thead>\n",
       "    <tr style=\"text-align: right;\">\n",
       "      <th></th>\n",
       "      <th>target</th>\n",
       "      <th>gender_F</th>\n",
       "      <th>income_high</th>\n",
       "      <th>income_low</th>\n",
       "      <th>country_USA</th>\n",
       "      <th>country_India</th>\n",
       "      <th>country_UK</th>\n",
       "      <th>age</th>\n",
       "      <th>time_since_last_gift</th>\n",
       "      <th>time_since_first_gift</th>\n",
       "      <th>max_gift</th>\n",
       "      <th>min_gift</th>\n",
       "      <th>mean_gift</th>\n",
       "      <th>number_gift</th>\n",
       "      <th>time_since_first_and_last_gift</th>\n",
       "      <th>one_time_donor</th>\n",
       "    </tr>\n",
       "  </thead>\n",
       "  <tbody>\n",
       "    <tr>\n",
       "      <th>0</th>\n",
       "      <td>0</td>\n",
       "      <td>1</td>\n",
       "      <td>0</td>\n",
       "      <td>1</td>\n",
       "      <td>0</td>\n",
       "      <td>1</td>\n",
       "      <td>0</td>\n",
       "      <td>65</td>\n",
       "      <td>530</td>\n",
       "      <td>2265</td>\n",
       "      <td>166.0</td>\n",
       "      <td>87.0</td>\n",
       "      <td>116.00</td>\n",
       "      <td>7</td>\n",
       "      <td>1735</td>\n",
       "      <td>0</td>\n",
       "    </tr>\n",
       "    <tr>\n",
       "      <th>1</th>\n",
       "      <td>0</td>\n",
       "      <td>1</td>\n",
       "      <td>0</td>\n",
       "      <td>0</td>\n",
       "      <td>0</td>\n",
       "      <td>1</td>\n",
       "      <td>0</td>\n",
       "      <td>71</td>\n",
       "      <td>715</td>\n",
       "      <td>715</td>\n",
       "      <td>90.0</td>\n",
       "      <td>90.0</td>\n",
       "      <td>90.00</td>\n",
       "      <td>1</td>\n",
       "      <td>0</td>\n",
       "      <td>1</td>\n",
       "    </tr>\n",
       "    <tr>\n",
       "      <th>2</th>\n",
       "      <td>0</td>\n",
       "      <td>1</td>\n",
       "      <td>0</td>\n",
       "      <td>0</td>\n",
       "      <td>0</td>\n",
       "      <td>1</td>\n",
       "      <td>0</td>\n",
       "      <td>28</td>\n",
       "      <td>150</td>\n",
       "      <td>1806</td>\n",
       "      <td>125.0</td>\n",
       "      <td>74.0</td>\n",
       "      <td>96.00</td>\n",
       "      <td>9</td>\n",
       "      <td>1656</td>\n",
       "      <td>0</td>\n",
       "    </tr>\n",
       "    <tr>\n",
       "      <th>3</th>\n",
       "      <td>0</td>\n",
       "      <td>1</td>\n",
       "      <td>0</td>\n",
       "      <td>1</td>\n",
       "      <td>1</td>\n",
       "      <td>0</td>\n",
       "      <td>0</td>\n",
       "      <td>52</td>\n",
       "      <td>725</td>\n",
       "      <td>2274</td>\n",
       "      <td>117.0</td>\n",
       "      <td>97.0</td>\n",
       "      <td>104.25</td>\n",
       "      <td>4</td>\n",
       "      <td>1549</td>\n",
       "      <td>0</td>\n",
       "    </tr>\n",
       "    <tr>\n",
       "      <th>4</th>\n",
       "      <td>0</td>\n",
       "      <td>1</td>\n",
       "      <td>1</td>\n",
       "      <td>0</td>\n",
       "      <td>1</td>\n",
       "      <td>0</td>\n",
       "      <td>0</td>\n",
       "      <td>82</td>\n",
       "      <td>805</td>\n",
       "      <td>805</td>\n",
       "      <td>80.0</td>\n",
       "      <td>80.0</td>\n",
       "      <td>80.00</td>\n",
       "      <td>1</td>\n",
       "      <td>0</td>\n",
       "      <td>1</td>\n",
       "    </tr>\n",
       "  </tbody>\n",
       "</table>\n",
       "</div>"
      ],
      "text/plain": [
       "   target  gender_F  income_high  income_low  country_USA  country_India  \\\n",
       "0       0         1            0           1            0              1   \n",
       "1       0         1            0           0            0              1   \n",
       "2       0         1            0           0            0              1   \n",
       "3       0         1            0           1            1              0   \n",
       "4       0         1            1           0            1              0   \n",
       "\n",
       "   country_UK  age  time_since_last_gift  time_since_first_gift  max_gift  \\\n",
       "0           0   65                   530                   2265     166.0   \n",
       "1           0   71                   715                    715      90.0   \n",
       "2           0   28                   150                   1806     125.0   \n",
       "3           0   52                   725                   2274     117.0   \n",
       "4           0   82                   805                    805      80.0   \n",
       "\n",
       "   min_gift  mean_gift  number_gift  time_since_first_and_last_gift  \\\n",
       "0      87.0     116.00            7                            1735   \n",
       "1      90.0      90.00            1                               0   \n",
       "2      74.0      96.00            9                            1656   \n",
       "3      97.0     104.25            4                            1549   \n",
       "4      80.0      80.00            1                               0   \n",
       "\n",
       "   one_time_donor  \n",
       "0               0  \n",
       "1               1  \n",
       "2               0  \n",
       "3               0  \n",
       "4               1  "
      ]
     },
     "execution_count": 10,
     "metadata": {},
     "output_type": "execute_result"
    }
   ],
   "source": [
    "donors.head()"
   ]
  },
  {
   "cell_type": "code",
   "execution_count": 11,
   "id": "aa00408f",
   "metadata": {},
   "outputs": [],
   "source": [
    "donors['sum_gift'] = donors['number_gift'] * donors['mean_gift']\n",
    "\n",
    "# for donors with only 1 gift, mean = 0\n",
    "donors['mean_gift_per_time'] = 0\n",
    "donors.loc[(donors['number_gift']>1),'mean_gift_per_time'] = donors['sum_gift'] / donors['time_since_first_and_last_gift']"
   ]
  },
  {
   "cell_type": "code",
   "execution_count": 12,
   "id": "3f82fb37",
   "metadata": {},
   "outputs": [
    {
     "data": {
      "text/html": [
       "<div>\n",
       "<style scoped>\n",
       "    .dataframe tbody tr th:only-of-type {\n",
       "        vertical-align: middle;\n",
       "    }\n",
       "\n",
       "    .dataframe tbody tr th {\n",
       "        vertical-align: top;\n",
       "    }\n",
       "\n",
       "    .dataframe thead th {\n",
       "        text-align: right;\n",
       "    }\n",
       "</style>\n",
       "<table border=\"1\" class=\"dataframe\">\n",
       "  <thead>\n",
       "    <tr style=\"text-align: right;\">\n",
       "      <th></th>\n",
       "      <th>target</th>\n",
       "      <th>gender_F</th>\n",
       "      <th>income_high</th>\n",
       "      <th>income_low</th>\n",
       "      <th>country_USA</th>\n",
       "      <th>country_India</th>\n",
       "      <th>country_UK</th>\n",
       "      <th>age</th>\n",
       "      <th>time_since_last_gift</th>\n",
       "      <th>time_since_first_gift</th>\n",
       "      <th>max_gift</th>\n",
       "      <th>min_gift</th>\n",
       "      <th>mean_gift</th>\n",
       "      <th>number_gift</th>\n",
       "      <th>time_since_first_and_last_gift</th>\n",
       "      <th>one_time_donor</th>\n",
       "      <th>sum_gift</th>\n",
       "      <th>mean_gift_per_time</th>\n",
       "    </tr>\n",
       "  </thead>\n",
       "  <tbody>\n",
       "    <tr>\n",
       "      <th>0</th>\n",
       "      <td>0</td>\n",
       "      <td>1</td>\n",
       "      <td>0</td>\n",
       "      <td>1</td>\n",
       "      <td>0</td>\n",
       "      <td>1</td>\n",
       "      <td>0</td>\n",
       "      <td>65</td>\n",
       "      <td>530</td>\n",
       "      <td>2265</td>\n",
       "      <td>166.0</td>\n",
       "      <td>87.0</td>\n",
       "      <td>116.000000</td>\n",
       "      <td>7</td>\n",
       "      <td>1735</td>\n",
       "      <td>0</td>\n",
       "      <td>812.0</td>\n",
       "      <td>0.468012</td>\n",
       "    </tr>\n",
       "    <tr>\n",
       "      <th>1</th>\n",
       "      <td>0</td>\n",
       "      <td>1</td>\n",
       "      <td>0</td>\n",
       "      <td>0</td>\n",
       "      <td>0</td>\n",
       "      <td>1</td>\n",
       "      <td>0</td>\n",
       "      <td>71</td>\n",
       "      <td>715</td>\n",
       "      <td>715</td>\n",
       "      <td>90.0</td>\n",
       "      <td>90.0</td>\n",
       "      <td>90.000000</td>\n",
       "      <td>1</td>\n",
       "      <td>0</td>\n",
       "      <td>1</td>\n",
       "      <td>90.0</td>\n",
       "      <td>0.000000</td>\n",
       "    </tr>\n",
       "    <tr>\n",
       "      <th>2</th>\n",
       "      <td>0</td>\n",
       "      <td>1</td>\n",
       "      <td>0</td>\n",
       "      <td>0</td>\n",
       "      <td>0</td>\n",
       "      <td>1</td>\n",
       "      <td>0</td>\n",
       "      <td>28</td>\n",
       "      <td>150</td>\n",
       "      <td>1806</td>\n",
       "      <td>125.0</td>\n",
       "      <td>74.0</td>\n",
       "      <td>96.000000</td>\n",
       "      <td>9</td>\n",
       "      <td>1656</td>\n",
       "      <td>0</td>\n",
       "      <td>864.0</td>\n",
       "      <td>0.521739</td>\n",
       "    </tr>\n",
       "    <tr>\n",
       "      <th>3</th>\n",
       "      <td>0</td>\n",
       "      <td>1</td>\n",
       "      <td>0</td>\n",
       "      <td>1</td>\n",
       "      <td>1</td>\n",
       "      <td>0</td>\n",
       "      <td>0</td>\n",
       "      <td>52</td>\n",
       "      <td>725</td>\n",
       "      <td>2274</td>\n",
       "      <td>117.0</td>\n",
       "      <td>97.0</td>\n",
       "      <td>104.250000</td>\n",
       "      <td>4</td>\n",
       "      <td>1549</td>\n",
       "      <td>0</td>\n",
       "      <td>417.0</td>\n",
       "      <td>0.269206</td>\n",
       "    </tr>\n",
       "    <tr>\n",
       "      <th>4</th>\n",
       "      <td>0</td>\n",
       "      <td>1</td>\n",
       "      <td>1</td>\n",
       "      <td>0</td>\n",
       "      <td>1</td>\n",
       "      <td>0</td>\n",
       "      <td>0</td>\n",
       "      <td>82</td>\n",
       "      <td>805</td>\n",
       "      <td>805</td>\n",
       "      <td>80.0</td>\n",
       "      <td>80.0</td>\n",
       "      <td>80.000000</td>\n",
       "      <td>1</td>\n",
       "      <td>0</td>\n",
       "      <td>1</td>\n",
       "      <td>80.0</td>\n",
       "      <td>0.000000</td>\n",
       "    </tr>\n",
       "    <tr>\n",
       "      <th>...</th>\n",
       "      <td>...</td>\n",
       "      <td>...</td>\n",
       "      <td>...</td>\n",
       "      <td>...</td>\n",
       "      <td>...</td>\n",
       "      <td>...</td>\n",
       "      <td>...</td>\n",
       "      <td>...</td>\n",
       "      <td>...</td>\n",
       "      <td>...</td>\n",
       "      <td>...</td>\n",
       "      <td>...</td>\n",
       "      <td>...</td>\n",
       "      <td>...</td>\n",
       "      <td>...</td>\n",
       "      <td>...</td>\n",
       "      <td>...</td>\n",
       "      <td>...</td>\n",
       "    </tr>\n",
       "    <tr>\n",
       "      <th>24995</th>\n",
       "      <td>0</td>\n",
       "      <td>1</td>\n",
       "      <td>0</td>\n",
       "      <td>0</td>\n",
       "      <td>1</td>\n",
       "      <td>0</td>\n",
       "      <td>0</td>\n",
       "      <td>66</td>\n",
       "      <td>406</td>\n",
       "      <td>2662</td>\n",
       "      <td>94.0</td>\n",
       "      <td>43.0</td>\n",
       "      <td>68.625000</td>\n",
       "      <td>8</td>\n",
       "      <td>2256</td>\n",
       "      <td>0</td>\n",
       "      <td>549.0</td>\n",
       "      <td>0.243351</td>\n",
       "    </tr>\n",
       "    <tr>\n",
       "      <th>24996</th>\n",
       "      <td>0</td>\n",
       "      <td>0</td>\n",
       "      <td>0</td>\n",
       "      <td>0</td>\n",
       "      <td>0</td>\n",
       "      <td>1</td>\n",
       "      <td>0</td>\n",
       "      <td>50</td>\n",
       "      <td>621</td>\n",
       "      <td>2463</td>\n",
       "      <td>132.0</td>\n",
       "      <td>117.0</td>\n",
       "      <td>124.500000</td>\n",
       "      <td>2</td>\n",
       "      <td>1842</td>\n",
       "      <td>0</td>\n",
       "      <td>249.0</td>\n",
       "      <td>0.135179</td>\n",
       "    </tr>\n",
       "    <tr>\n",
       "      <th>24997</th>\n",
       "      <td>0</td>\n",
       "      <td>0</td>\n",
       "      <td>0</td>\n",
       "      <td>0</td>\n",
       "      <td>0</td>\n",
       "      <td>1</td>\n",
       "      <td>0</td>\n",
       "      <td>80</td>\n",
       "      <td>874</td>\n",
       "      <td>2143</td>\n",
       "      <td>117.0</td>\n",
       "      <td>90.0</td>\n",
       "      <td>103.500000</td>\n",
       "      <td>2</td>\n",
       "      <td>1269</td>\n",
       "      <td>0</td>\n",
       "      <td>207.0</td>\n",
       "      <td>0.163121</td>\n",
       "    </tr>\n",
       "    <tr>\n",
       "      <th>24998</th>\n",
       "      <td>0</td>\n",
       "      <td>0</td>\n",
       "      <td>1</td>\n",
       "      <td>0</td>\n",
       "      <td>1</td>\n",
       "      <td>0</td>\n",
       "      <td>0</td>\n",
       "      <td>85</td>\n",
       "      <td>964</td>\n",
       "      <td>2375</td>\n",
       "      <td>108.0</td>\n",
       "      <td>62.0</td>\n",
       "      <td>78.666667</td>\n",
       "      <td>3</td>\n",
       "      <td>1411</td>\n",
       "      <td>0</td>\n",
       "      <td>236.0</td>\n",
       "      <td>0.167257</td>\n",
       "    </tr>\n",
       "    <tr>\n",
       "      <th>24999</th>\n",
       "      <td>0</td>\n",
       "      <td>1</td>\n",
       "      <td>0</td>\n",
       "      <td>1</td>\n",
       "      <td>1</td>\n",
       "      <td>0</td>\n",
       "      <td>0</td>\n",
       "      <td>41</td>\n",
       "      <td>1291</td>\n",
       "      <td>2200</td>\n",
       "      <td>116.0</td>\n",
       "      <td>62.0</td>\n",
       "      <td>93.714286</td>\n",
       "      <td>7</td>\n",
       "      <td>909</td>\n",
       "      <td>0</td>\n",
       "      <td>656.0</td>\n",
       "      <td>0.721672</td>\n",
       "    </tr>\n",
       "  </tbody>\n",
       "</table>\n",
       "<p>25000 rows × 18 columns</p>\n",
       "</div>"
      ],
      "text/plain": [
       "       target  gender_F  income_high  income_low  country_USA  country_India  \\\n",
       "0           0         1            0           1            0              1   \n",
       "1           0         1            0           0            0              1   \n",
       "2           0         1            0           0            0              1   \n",
       "3           0         1            0           1            1              0   \n",
       "4           0         1            1           0            1              0   \n",
       "...       ...       ...          ...         ...          ...            ...   \n",
       "24995       0         1            0           0            1              0   \n",
       "24996       0         0            0           0            0              1   \n",
       "24997       0         0            0           0            0              1   \n",
       "24998       0         0            1           0            1              0   \n",
       "24999       0         1            0           1            1              0   \n",
       "\n",
       "       country_UK  age  time_since_last_gift  time_since_first_gift  max_gift  \\\n",
       "0               0   65                   530                   2265     166.0   \n",
       "1               0   71                   715                    715      90.0   \n",
       "2               0   28                   150                   1806     125.0   \n",
       "3               0   52                   725                   2274     117.0   \n",
       "4               0   82                   805                    805      80.0   \n",
       "...           ...  ...                   ...                    ...       ...   \n",
       "24995           0   66                   406                   2662      94.0   \n",
       "24996           0   50                   621                   2463     132.0   \n",
       "24997           0   80                   874                   2143     117.0   \n",
       "24998           0   85                   964                   2375     108.0   \n",
       "24999           0   41                  1291                   2200     116.0   \n",
       "\n",
       "       min_gift   mean_gift  number_gift  time_since_first_and_last_gift  \\\n",
       "0          87.0  116.000000            7                            1735   \n",
       "1          90.0   90.000000            1                               0   \n",
       "2          74.0   96.000000            9                            1656   \n",
       "3          97.0  104.250000            4                            1549   \n",
       "4          80.0   80.000000            1                               0   \n",
       "...         ...         ...          ...                             ...   \n",
       "24995      43.0   68.625000            8                            2256   \n",
       "24996     117.0  124.500000            2                            1842   \n",
       "24997      90.0  103.500000            2                            1269   \n",
       "24998      62.0   78.666667            3                            1411   \n",
       "24999      62.0   93.714286            7                             909   \n",
       "\n",
       "       one_time_donor  sum_gift  mean_gift_per_time  \n",
       "0                   0     812.0            0.468012  \n",
       "1                   1      90.0            0.000000  \n",
       "2                   0     864.0            0.521739  \n",
       "3                   0     417.0            0.269206  \n",
       "4                   1      80.0            0.000000  \n",
       "...               ...       ...                 ...  \n",
       "24995               0     549.0            0.243351  \n",
       "24996               0     249.0            0.135179  \n",
       "24997               0     207.0            0.163121  \n",
       "24998               0     236.0            0.167257  \n",
       "24999               0     656.0            0.721672  \n",
       "\n",
       "[25000 rows x 18 columns]"
      ]
     },
     "execution_count": 12,
     "metadata": {},
     "output_type": "execute_result"
    }
   ],
   "source": [
    "donors"
   ]
  },
  {
   "cell_type": "markdown",
   "id": "fddf1ad8",
   "metadata": {},
   "source": [
    "## Cleaning for outliers"
   ]
  },
  {
   "cell_type": "code",
   "execution_count": 13,
   "id": "b2967bd8",
   "metadata": {},
   "outputs": [],
   "source": [
    "import seaborn as sns\n",
    "import matplotlib.pyplot as plt"
   ]
  },
  {
   "cell_type": "code",
   "execution_count": 14,
   "id": "69740ee4",
   "metadata": {},
   "outputs": [
    {
     "data": {
      "image/png": "[encoded data removed]",
      "text/plain": [
       "<Figure size 720x288 with 1 Axes>"
      ]
     },
     "metadata": {
      "needs_background": "light"
     },
     "output_type": "display_data"
    },
    {
     "data": {
      "image/png": "[encoded data removed]",
      "text/plain": [
       "<Figure size 720x288 with 1 Axes>"
      ]
     },
     "metadata": {
      "needs_background": "light"
     },
     "output_type": "display_data"
    },
    {
     "data": {
      "image/png": "[encoded data removed]",
      "text/plain": [
       "<Figure size 720x288 with 1 Axes>"
      ]
     },
     "metadata": {
      "needs_background": "light"
     },
     "output_type": "display_data"
    },
    {
     "data": {
      "image/png": "[encoded data removed]",
      "text/plain": [
       "<Figure size 720x288 with 1 Axes>"
      ]
     },
     "metadata": {
      "needs_background": "light"
     },
     "output_type": "display_data"
    },
    {
     "data": {
      "image/png": "[encoded data removed]",
      "text/plain": [
       "<Figure size 720x288 with 1 Axes>"
      ]
     },
     "metadata": {
      "needs_background": "light"
     },
     "output_type": "display_data"
    },
    {
     "data": {
      "image/png": "[encoded data removed]",
      "text/plain": [
       "<Figure size 720x288 with 1 Axes>"
      ]
     },
     "metadata": {
      "needs_background": "light"
     },
     "output_type": "display_data"
    },
    {
     "data": {
      "image/png": "[encoded data removed]",
      "text/plain": [
       "<Figure size 720x288 with 1 Axes>"
      ]
     },
     "metadata": {
      "needs_background": "light"
     },
     "output_type": "display_data"
    },
    {
     "data": {
      "image/png": "[encoded data removed]",
      "text/plain": [
       "<Figure size 720x288 with 1 Axes>"
      ]
     },
     "metadata": {
      "needs_background": "light"
     },
     "output_type": "display_data"
    },
    {
     "data": {
      "image/png": "[encoded data removed]",
      "text/plain": [
       "<Figure size 720x288 with 1 Axes>"
      ]
     },
     "metadata": {
      "needs_background": "light"
     },
     "output_type": "display_data"
    },
    {
     "data": {
      "image/png": "[encoded data removed]",
      "text/plain": [
       "<Figure size 720x288 with 1 Axes>"
      ]
     },
     "metadata": {
      "needs_background": "light"
     },
     "output_type": "display_data"
    }
   ],
   "source": [
    "for abc in donors.columns:\n",
    "    if (donors[abc].nunique()>2):\n",
    "        plt.figure(figsize=(10,4))\n",
    "        sns.boxplot(data=donors, x=abc, whis=1.5)\n",
    "        plt.show()"
   ]
  },
  {
   "cell_type": "code",
   "execution_count": 15,
   "id": "be3b6d93",
   "metadata": {},
   "outputs": [
    {
     "data": {
      "image/png": "[encoded data removed]",
      "text/plain": [
       "<Figure size 720x288 with 1 Axes>"
      ]
     },
     "metadata": {
      "needs_background": "light"
     },
     "output_type": "display_data"
    }
   ],
   "source": [
    "# Exploring sum_gift further\n",
    "iqr = donors['sum_gift'].quantile(0.75) - donors['sum_gift'].quantile(0.25)\n",
    "upper_whisker = donors['sum_gift'].quantile(0.75) + 1.5*iqr\n",
    "\n",
    "plt.figure(figsize=(10,4))\n",
    "sns.boxplot(data=donors[donors['sum_gift']>upper_whisker], x='sum_gift', whis=[20,80])\n",
    "plt.show()"
   ]
  },
  {
   "cell_type": "markdown",
   "id": "29654dd4",
   "metadata": {},
   "source": [
    "We have to remove outlier data points so that the models will perform better. My visual analysis of the boxplots tells me if there are datapoints with extreme outliers\n",
    "\n",
    "Data points with outliers are:\n",
    "min_gift > 190\n",
    "mean_gift > 190\n",
    "mean_gift_per_time > 120\n",
    "sum_gift > 1600"
   ]
  },
  {
   "cell_type": "code",
   "execution_count": 16,
   "id": "5f1db4b4",
   "metadata": {},
   "outputs": [
    {
     "name": "stdout",
     "output_type": "stream",
     "text": [
      "194.0\n",
      "194.0\n",
      "150.0\n",
      "1766.0\n"
     ]
    }
   ],
   "source": [
    "print(donors['min_gift'].max())\n",
    "print(donors['mean_gift'].max())\n",
    "print(donors['mean_gift_per_time'].max())\n",
    "print(donors['sum_gift'].max())"
   ]
  },
  {
   "cell_type": "code",
   "execution_count": 17,
   "id": "79956243",
   "metadata": {},
   "outputs": [
    {
     "name": "stdout",
     "output_type": "stream",
     "text": [
      "(25000, 18)\n",
      "(24993, 18)\n"
     ]
    }
   ],
   "source": [
    "print(donors.shape)\n",
    "donors = donors[donors.min_gift<190]\n",
    "donors = donors[donors.mean_gift<190]\n",
    "donors = donors[donors.mean_gift_per_time<150]\n",
    "donors = donors[donors.sum_gift<1600]\n",
    "print(donors.shape)"
   ]
  },
  {
   "cell_type": "code",
   "execution_count": 18,
   "id": "ce787ecb",
   "metadata": {},
   "outputs": [],
   "source": [
    "donors.to_csv('data/donations_eng.csv', index=False)"
   ]
  }
 ],
 "metadata": {
  "kernelspec": {
   "display_name": "Python 3",
   "language": "python",
   "name": "python3"
  },
  "language_info": {
   "codemirror_mode": {
    "name": "ipython",
    "version": 3
   },
   "file_extension": ".py",
   "mimetype": "text/x-python",
   "name": "python",
   "nbconvert_exporter": "python",
   "pygments_lexer": "ipython3",
   "version": "3.8.8"
  }
 },
 "nbformat": 4,
 "nbformat_minor": 5
}
