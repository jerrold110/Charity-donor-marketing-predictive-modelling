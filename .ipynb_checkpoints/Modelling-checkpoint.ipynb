{
 "cells": [
  {
   "cell_type": "code",
   "execution_count": 1,
   "metadata": {},
   "outputs": [],
   "source": [
    "import pandas as pd\n",
    "import numpy as np"
   ]
  },
  {
   "cell_type": "code",
   "execution_count": 2,
   "metadata": {
    "scrolled": true
   },
   "outputs": [
    {
     "data": {
      "text/plain": [
       "(25000, 14)"
      ]
     },
     "execution_count": 2,
     "metadata": {},
     "output_type": "execute_result"
    }
   ],
   "source": [
    "donors = pd.read_csv('donations.csv')\n",
    "donors.shape"
   ]
  },
  {
   "cell_type": "code",
   "execution_count": 3,
   "metadata": {},
   "outputs": [
    {
     "data": {
      "text/plain": [
       "target                     int64\n",
       "gender_F                   int64\n",
       "income_high                int64\n",
       "income_low                 int64\n",
       "country_USA                int64\n",
       "country_India              int64\n",
       "country_UK                 int64\n",
       "age                        int64\n",
       "time_since_last_gift       int64\n",
       "time_since_first_gift      int64\n",
       "max_gift                 float64\n",
       "min_gift                 float64\n",
       "mean_gift                float64\n",
       "number_gift                int64\n",
       "dtype: object"
      ]
     },
     "execution_count": 3,
     "metadata": {},
     "output_type": "execute_result"
    }
   ],
   "source": [
    "donors.dtypes"
   ]
  },
  {
   "cell_type": "code",
   "execution_count": 4,
   "metadata": {
    "scrolled": false
   },
   "outputs": [
    {
     "data": {
      "text/html": [
       "<div>\n",
       "<style scoped>\n",
       "    .dataframe tbody tr th:only-of-type {\n",
       "        vertical-align: middle;\n",
       "    }\n",
       "\n",
       "    .dataframe tbody tr th {\n",
       "        vertical-align: top;\n",
       "    }\n",
       "\n",
       "    .dataframe thead th {\n",
       "        text-align: right;\n",
       "    }\n",
       "</style>\n",
       "<table border=\"1\" class=\"dataframe\">\n",
       "  <thead>\n",
       "    <tr style=\"text-align: right;\">\n",
       "      <th></th>\n",
       "      <th>target</th>\n",
       "      <th>gender_F</th>\n",
       "      <th>income_high</th>\n",
       "      <th>income_low</th>\n",
       "      <th>country_USA</th>\n",
       "      <th>country_India</th>\n",
       "      <th>country_UK</th>\n",
       "      <th>age</th>\n",
       "      <th>time_since_last_gift</th>\n",
       "      <th>time_since_first_gift</th>\n",
       "      <th>max_gift</th>\n",
       "      <th>min_gift</th>\n",
       "      <th>mean_gift</th>\n",
       "      <th>number_gift</th>\n",
       "    </tr>\n",
       "  </thead>\n",
       "  <tbody>\n",
       "    <tr>\n",
       "      <th>0</th>\n",
       "      <td>0</td>\n",
       "      <td>1</td>\n",
       "      <td>0</td>\n",
       "      <td>1</td>\n",
       "      <td>0</td>\n",
       "      <td>1</td>\n",
       "      <td>0</td>\n",
       "      <td>65</td>\n",
       "      <td>530</td>\n",
       "      <td>2265</td>\n",
       "      <td>166.0</td>\n",
       "      <td>87.0</td>\n",
       "      <td>116.00</td>\n",
       "      <td>7</td>\n",
       "    </tr>\n",
       "    <tr>\n",
       "      <th>1</th>\n",
       "      <td>0</td>\n",
       "      <td>1</td>\n",
       "      <td>0</td>\n",
       "      <td>0</td>\n",
       "      <td>0</td>\n",
       "      <td>1</td>\n",
       "      <td>0</td>\n",
       "      <td>71</td>\n",
       "      <td>715</td>\n",
       "      <td>715</td>\n",
       "      <td>90.0</td>\n",
       "      <td>90.0</td>\n",
       "      <td>90.00</td>\n",
       "      <td>1</td>\n",
       "    </tr>\n",
       "    <tr>\n",
       "      <th>2</th>\n",
       "      <td>0</td>\n",
       "      <td>1</td>\n",
       "      <td>0</td>\n",
       "      <td>0</td>\n",
       "      <td>0</td>\n",
       "      <td>1</td>\n",
       "      <td>0</td>\n",
       "      <td>28</td>\n",
       "      <td>150</td>\n",
       "      <td>1806</td>\n",
       "      <td>125.0</td>\n",
       "      <td>74.0</td>\n",
       "      <td>96.00</td>\n",
       "      <td>9</td>\n",
       "    </tr>\n",
       "    <tr>\n",
       "      <th>3</th>\n",
       "      <td>0</td>\n",
       "      <td>1</td>\n",
       "      <td>0</td>\n",
       "      <td>1</td>\n",
       "      <td>1</td>\n",
       "      <td>0</td>\n",
       "      <td>0</td>\n",
       "      <td>52</td>\n",
       "      <td>725</td>\n",
       "      <td>2274</td>\n",
       "      <td>117.0</td>\n",
       "      <td>97.0</td>\n",
       "      <td>104.25</td>\n",
       "      <td>4</td>\n",
       "    </tr>\n",
       "    <tr>\n",
       "      <th>4</th>\n",
       "      <td>0</td>\n",
       "      <td>1</td>\n",
       "      <td>1</td>\n",
       "      <td>0</td>\n",
       "      <td>1</td>\n",
       "      <td>0</td>\n",
       "      <td>0</td>\n",
       "      <td>82</td>\n",
       "      <td>805</td>\n",
       "      <td>805</td>\n",
       "      <td>80.0</td>\n",
       "      <td>80.0</td>\n",
       "      <td>80.00</td>\n",
       "      <td>1</td>\n",
       "    </tr>\n",
       "  </tbody>\n",
       "</table>\n",
       "</div>"
      ],
      "text/plain": [
       "   target  gender_F  income_high  income_low  country_USA  country_India  \\\n",
       "0       0         1            0           1            0              1   \n",
       "1       0         1            0           0            0              1   \n",
       "2       0         1            0           0            0              1   \n",
       "3       0         1            0           1            1              0   \n",
       "4       0         1            1           0            1              0   \n",
       "\n",
       "   country_UK  age  time_since_last_gift  time_since_first_gift  max_gift  \\\n",
       "0           0   65                   530                   2265     166.0   \n",
       "1           0   71                   715                    715      90.0   \n",
       "2           0   28                   150                   1806     125.0   \n",
       "3           0   52                   725                   2274     117.0   \n",
       "4           0   82                   805                    805      80.0   \n",
       "\n",
       "   min_gift  mean_gift  number_gift  \n",
       "0      87.0     116.00            7  \n",
       "1      90.0      90.00            1  \n",
       "2      74.0      96.00            9  \n",
       "3      97.0     104.25            4  \n",
       "4      80.0      80.00            1  "
      ]
     },
     "execution_count": 4,
     "metadata": {},
     "output_type": "execute_result"
    }
   ],
   "source": [
    "donors.head()"
   ]
  },
  {
   "cell_type": "code",
   "execution_count": 5,
   "metadata": {},
   "outputs": [
    {
     "data": {
      "text/html": [
       "<div>\n",
       "<style scoped>\n",
       "    .dataframe tbody tr th:only-of-type {\n",
       "        vertical-align: middle;\n",
       "    }\n",
       "\n",
       "    .dataframe tbody tr th {\n",
       "        vertical-align: top;\n",
       "    }\n",
       "\n",
       "    .dataframe thead th {\n",
       "        text-align: right;\n",
       "    }\n",
       "</style>\n",
       "<table border=\"1\" class=\"dataframe\">\n",
       "  <thead>\n",
       "    <tr style=\"text-align: right;\">\n",
       "      <th></th>\n",
       "      <th>target</th>\n",
       "      <th>gender_F</th>\n",
       "      <th>income_high</th>\n",
       "      <th>income_low</th>\n",
       "      <th>country_USA</th>\n",
       "      <th>country_India</th>\n",
       "      <th>country_UK</th>\n",
       "      <th>age</th>\n",
       "      <th>time_since_last_gift</th>\n",
       "      <th>time_since_first_gift</th>\n",
       "      <th>max_gift</th>\n",
       "      <th>min_gift</th>\n",
       "      <th>mean_gift</th>\n",
       "      <th>number_gift</th>\n",
       "    </tr>\n",
       "  </thead>\n",
       "  <tbody>\n",
       "    <tr>\n",
       "      <th>count</th>\n",
       "      <td>25000.000000</td>\n",
       "      <td>25000.00000</td>\n",
       "      <td>25000.000000</td>\n",
       "      <td>25000.000000</td>\n",
       "      <td>25000.000000</td>\n",
       "      <td>25000.000000</td>\n",
       "      <td>25000.000000</td>\n",
       "      <td>25000.000000</td>\n",
       "      <td>25000.000000</td>\n",
       "      <td>25000.00000</td>\n",
       "      <td>25000.000000</td>\n",
       "      <td>25000.000000</td>\n",
       "      <td>25000.000000</td>\n",
       "      <td>25000.00000</td>\n",
       "    </tr>\n",
       "    <tr>\n",
       "      <th>mean</th>\n",
       "      <td>0.047480</td>\n",
       "      <td>0.50316</td>\n",
       "      <td>0.164320</td>\n",
       "      <td>0.208200</td>\n",
       "      <td>0.402920</td>\n",
       "      <td>0.495160</td>\n",
       "      <td>0.101920</td>\n",
       "      <td>53.605080</td>\n",
       "      <td>757.845560</td>\n",
       "      <td>2152.18212</td>\n",
       "      <td>111.167640</td>\n",
       "      <td>69.830680</td>\n",
       "      <td>90.455932</td>\n",
       "      <td>5.22572</td>\n",
       "    </tr>\n",
       "    <tr>\n",
       "      <th>std</th>\n",
       "      <td>0.212667</td>\n",
       "      <td>0.50000</td>\n",
       "      <td>0.370573</td>\n",
       "      <td>0.406029</td>\n",
       "      <td>0.490495</td>\n",
       "      <td>0.499987</td>\n",
       "      <td>0.302549</td>\n",
       "      <td>17.382771</td>\n",
       "      <td>342.286498</td>\n",
       "      <td>658.40422</td>\n",
       "      <td>20.377627</td>\n",
       "      <td>20.085216</td>\n",
       "      <td>15.466240</td>\n",
       "      <td>2.83908</td>\n",
       "    </tr>\n",
       "    <tr>\n",
       "      <th>min</th>\n",
       "      <td>0.000000</td>\n",
       "      <td>0.00000</td>\n",
       "      <td>0.000000</td>\n",
       "      <td>0.000000</td>\n",
       "      <td>0.000000</td>\n",
       "      <td>0.000000</td>\n",
       "      <td>0.000000</td>\n",
       "      <td>19.000000</td>\n",
       "      <td>32.000000</td>\n",
       "      <td>32.00000</td>\n",
       "      <td>18.000000</td>\n",
       "      <td>2.000000</td>\n",
       "      <td>18.000000</td>\n",
       "      <td>1.00000</td>\n",
       "    </tr>\n",
       "    <tr>\n",
       "      <th>25%</th>\n",
       "      <td>0.000000</td>\n",
       "      <td>0.00000</td>\n",
       "      <td>0.000000</td>\n",
       "      <td>0.000000</td>\n",
       "      <td>0.000000</td>\n",
       "      <td>0.000000</td>\n",
       "      <td>0.000000</td>\n",
       "      <td>41.000000</td>\n",
       "      <td>519.000000</td>\n",
       "      <td>1915.00000</td>\n",
       "      <td>99.000000</td>\n",
       "      <td>56.000000</td>\n",
       "      <td>80.666667</td>\n",
       "      <td>3.00000</td>\n",
       "    </tr>\n",
       "    <tr>\n",
       "      <th>50%</th>\n",
       "      <td>0.000000</td>\n",
       "      <td>1.00000</td>\n",
       "      <td>0.000000</td>\n",
       "      <td>0.000000</td>\n",
       "      <td>0.000000</td>\n",
       "      <td>0.000000</td>\n",
       "      <td>0.000000</td>\n",
       "      <td>54.000000</td>\n",
       "      <td>736.000000</td>\n",
       "      <td>2414.00000</td>\n",
       "      <td>112.000000</td>\n",
       "      <td>69.000000</td>\n",
       "      <td>90.571429</td>\n",
       "      <td>5.00000</td>\n",
       "    </tr>\n",
       "    <tr>\n",
       "      <th>75%</th>\n",
       "      <td>0.000000</td>\n",
       "      <td>1.00000</td>\n",
       "      <td>0.000000</td>\n",
       "      <td>0.000000</td>\n",
       "      <td>1.000000</td>\n",
       "      <td>1.000000</td>\n",
       "      <td>0.000000</td>\n",
       "      <td>64.000000</td>\n",
       "      <td>985.000000</td>\n",
       "      <td>2633.00000</td>\n",
       "      <td>125.000000</td>\n",
       "      <td>82.000000</td>\n",
       "      <td>100.444444</td>\n",
       "      <td>7.00000</td>\n",
       "    </tr>\n",
       "    <tr>\n",
       "      <th>max</th>\n",
       "      <td>1.000000</td>\n",
       "      <td>1.00000</td>\n",
       "      <td>1.000000</td>\n",
       "      <td>1.000000</td>\n",
       "      <td>1.000000</td>\n",
       "      <td>1.000000</td>\n",
       "      <td>1.000000</td>\n",
       "      <td>109.000000</td>\n",
       "      <td>2305.000000</td>\n",
       "      <td>2771.00000</td>\n",
       "      <td>194.000000</td>\n",
       "      <td>194.000000</td>\n",
       "      <td>194.000000</td>\n",
       "      <td>18.00000</td>\n",
       "    </tr>\n",
       "  </tbody>\n",
       "</table>\n",
       "</div>"
      ],
      "text/plain": [
       "             target     gender_F   income_high    income_low   country_USA  \\\n",
       "count  25000.000000  25000.00000  25000.000000  25000.000000  25000.000000   \n",
       "mean       0.047480      0.50316      0.164320      0.208200      0.402920   \n",
       "std        0.212667      0.50000      0.370573      0.406029      0.490495   \n",
       "min        0.000000      0.00000      0.000000      0.000000      0.000000   \n",
       "25%        0.000000      0.00000      0.000000      0.000000      0.000000   \n",
       "50%        0.000000      1.00000      0.000000      0.000000      0.000000   \n",
       "75%        0.000000      1.00000      0.000000      0.000000      1.000000   \n",
       "max        1.000000      1.00000      1.000000      1.000000      1.000000   \n",
       "\n",
       "       country_India    country_UK           age  time_since_last_gift  \\\n",
       "count   25000.000000  25000.000000  25000.000000          25000.000000   \n",
       "mean        0.495160      0.101920     53.605080            757.845560   \n",
       "std         0.499987      0.302549     17.382771            342.286498   \n",
       "min         0.000000      0.000000     19.000000             32.000000   \n",
       "25%         0.000000      0.000000     41.000000            519.000000   \n",
       "50%         0.000000      0.000000     54.000000            736.000000   \n",
       "75%         1.000000      0.000000     64.000000            985.000000   \n",
       "max         1.000000      1.000000    109.000000           2305.000000   \n",
       "\n",
       "       time_since_first_gift      max_gift      min_gift     mean_gift  \\\n",
       "count            25000.00000  25000.000000  25000.000000  25000.000000   \n",
       "mean              2152.18212    111.167640     69.830680     90.455932   \n",
       "std                658.40422     20.377627     20.085216     15.466240   \n",
       "min                 32.00000     18.000000      2.000000     18.000000   \n",
       "25%               1915.00000     99.000000     56.000000     80.666667   \n",
       "50%               2414.00000    112.000000     69.000000     90.571429   \n",
       "75%               2633.00000    125.000000     82.000000    100.444444   \n",
       "max               2771.00000    194.000000    194.000000    194.000000   \n",
       "\n",
       "       number_gift  \n",
       "count  25000.00000  \n",
       "mean       5.22572  \n",
       "std        2.83908  \n",
       "min        1.00000  \n",
       "25%        3.00000  \n",
       "50%        5.00000  \n",
       "75%        7.00000  \n",
       "max       18.00000  "
      ]
     },
     "execution_count": 5,
     "metadata": {},
     "output_type": "execute_result"
    }
   ],
   "source": [
    "donors.describe()"
   ]
  },
  {
   "cell_type": "code",
   "execution_count": 6,
   "metadata": {
    "scrolled": true
   },
   "outputs": [
    {
     "name": "stdout",
     "output_type": "stream",
     "text": [
      "1187 donors out of 25000\n"
     ]
    }
   ],
   "source": [
    "q = 'target'\n",
    "print(f'{sum(donors[q])} donors out of {donors.shape[0]}')"
   ]
  },
  {
   "cell_type": "code",
   "execution_count": 7,
   "metadata": {},
   "outputs": [
    {
     "name": "stdout",
     "output_type": "stream",
     "text": [
      "25000\n",
      "9313\n"
     ]
    }
   ],
   "source": [
    "# Is each client from either USA/India/UK?\n",
    "print(sum(donors.country_USA) + sum(donors.country_India) + sum(donors.country_UK))\n",
    "\n",
    "# Is each client either high or low income?\n",
    "print(sum(donors.income_high) + sum(donors.income_low))"
   ]
  },
  {
   "cell_type": "markdown",
   "metadata": {},
   "source": [
    "# Feature engineering\n",
    "- Is this a one-time donor?\n",
    "- Time since first and last gift\n",
    "- Total gift\n",
    "- Average gift per time"
   ]
  },
  {
   "cell_type": "code",
   "execution_count": 8,
   "metadata": {},
   "outputs": [
    {
     "name": "stdout",
     "output_type": "stream",
     "text": [
      "0\n",
      "2954\n"
     ]
    }
   ],
   "source": [
    "# are donors with time_since_first_and_last_gift consistent with number_gift = 1??\n",
    "donors['time_since_first_and_last_gift'] = donors['time_since_first_gift'] - donors['time_since_last_gift']\n",
    "print(len(donors[(donors['time_since_first_and_last_gift']==0) & (donors['number_gift']!=1)]))\n",
    "print(len(donors[(donors['time_since_first_and_last_gift']==0) & (donors['number_gift']==1)]))\n",
    "\n",
    "# yes they are"
   ]
  },
  {
   "cell_type": "code",
   "execution_count": 9,
   "metadata": {
    "scrolled": true
   },
   "outputs": [],
   "source": [
    "# assign one_time_donor\n",
    "donors['one_time_donor'] = 0\n",
    "donors.loc[(donors['number_gift']==1), 'one_time_donor']= 1"
   ]
  },
  {
   "cell_type": "code",
   "execution_count": 10,
   "metadata": {},
   "outputs": [
    {
     "data": {
      "text/html": [
       "<div>\n",
       "<style scoped>\n",
       "    .dataframe tbody tr th:only-of-type {\n",
       "        vertical-align: middle;\n",
       "    }\n",
       "\n",
       "    .dataframe tbody tr th {\n",
       "        vertical-align: top;\n",
       "    }\n",
       "\n",
       "    .dataframe thead th {\n",
       "        text-align: right;\n",
       "    }\n",
       "</style>\n",
       "<table border=\"1\" class=\"dataframe\">\n",
       "  <thead>\n",
       "    <tr style=\"text-align: right;\">\n",
       "      <th></th>\n",
       "      <th>target</th>\n",
       "      <th>gender_F</th>\n",
       "      <th>income_high</th>\n",
       "      <th>income_low</th>\n",
       "      <th>country_India</th>\n",
       "      <th>country_UK</th>\n",
       "      <th>age</th>\n",
       "      <th>time_since_last_gift</th>\n",
       "      <th>time_since_first_gift</th>\n",
       "      <th>max_gift</th>\n",
       "      <th>min_gift</th>\n",
       "      <th>mean_gift</th>\n",
       "      <th>number_gift</th>\n",
       "      <th>time_since_first_and_last_gift</th>\n",
       "      <th>one_time_donor</th>\n",
       "    </tr>\n",
       "  </thead>\n",
       "  <tbody>\n",
       "    <tr>\n",
       "      <th>0</th>\n",
       "      <td>0</td>\n",
       "      <td>1</td>\n",
       "      <td>0</td>\n",
       "      <td>1</td>\n",
       "      <td>1</td>\n",
       "      <td>0</td>\n",
       "      <td>65</td>\n",
       "      <td>530</td>\n",
       "      <td>2265</td>\n",
       "      <td>166.0</td>\n",
       "      <td>87.0</td>\n",
       "      <td>116.00</td>\n",
       "      <td>7</td>\n",
       "      <td>1735</td>\n",
       "      <td>0</td>\n",
       "    </tr>\n",
       "    <tr>\n",
       "      <th>1</th>\n",
       "      <td>0</td>\n",
       "      <td>1</td>\n",
       "      <td>0</td>\n",
       "      <td>0</td>\n",
       "      <td>1</td>\n",
       "      <td>0</td>\n",
       "      <td>71</td>\n",
       "      <td>715</td>\n",
       "      <td>715</td>\n",
       "      <td>90.0</td>\n",
       "      <td>90.0</td>\n",
       "      <td>90.00</td>\n",
       "      <td>1</td>\n",
       "      <td>0</td>\n",
       "      <td>1</td>\n",
       "    </tr>\n",
       "    <tr>\n",
       "      <th>2</th>\n",
       "      <td>0</td>\n",
       "      <td>1</td>\n",
       "      <td>0</td>\n",
       "      <td>0</td>\n",
       "      <td>1</td>\n",
       "      <td>0</td>\n",
       "      <td>28</td>\n",
       "      <td>150</td>\n",
       "      <td>1806</td>\n",
       "      <td>125.0</td>\n",
       "      <td>74.0</td>\n",
       "      <td>96.00</td>\n",
       "      <td>9</td>\n",
       "      <td>1656</td>\n",
       "      <td>0</td>\n",
       "    </tr>\n",
       "    <tr>\n",
       "      <th>3</th>\n",
       "      <td>0</td>\n",
       "      <td>1</td>\n",
       "      <td>0</td>\n",
       "      <td>1</td>\n",
       "      <td>0</td>\n",
       "      <td>0</td>\n",
       "      <td>52</td>\n",
       "      <td>725</td>\n",
       "      <td>2274</td>\n",
       "      <td>117.0</td>\n",
       "      <td>97.0</td>\n",
       "      <td>104.25</td>\n",
       "      <td>4</td>\n",
       "      <td>1549</td>\n",
       "      <td>0</td>\n",
       "    </tr>\n",
       "    <tr>\n",
       "      <th>4</th>\n",
       "      <td>0</td>\n",
       "      <td>1</td>\n",
       "      <td>1</td>\n",
       "      <td>0</td>\n",
       "      <td>0</td>\n",
       "      <td>0</td>\n",
       "      <td>82</td>\n",
       "      <td>805</td>\n",
       "      <td>805</td>\n",
       "      <td>80.0</td>\n",
       "      <td>80.0</td>\n",
       "      <td>80.00</td>\n",
       "      <td>1</td>\n",
       "      <td>0</td>\n",
       "      <td>1</td>\n",
       "    </tr>\n",
       "  </tbody>\n",
       "</table>\n",
       "</div>"
      ],
      "text/plain": [
       "   target  gender_F  income_high  income_low  country_India  country_UK  age  \\\n",
       "0       0         1            0           1              1           0   65   \n",
       "1       0         1            0           0              1           0   71   \n",
       "2       0         1            0           0              1           0   28   \n",
       "3       0         1            0           1              0           0   52   \n",
       "4       0         1            1           0              0           0   82   \n",
       "\n",
       "   time_since_last_gift  time_since_first_gift  max_gift  min_gift  mean_gift  \\\n",
       "0                   530                   2265     166.0      87.0     116.00   \n",
       "1                   715                    715      90.0      90.0      90.00   \n",
       "2                   150                   1806     125.0      74.0      96.00   \n",
       "3                   725                   2274     117.0      97.0     104.25   \n",
       "4                   805                    805      80.0      80.0      80.00   \n",
       "\n",
       "   number_gift  time_since_first_and_last_gift  one_time_donor  \n",
       "0            7                            1735               0  \n",
       "1            1                               0               1  \n",
       "2            9                            1656               0  \n",
       "3            4                            1549               0  \n",
       "4            1                               0               1  "
      ]
     },
     "execution_count": 10,
     "metadata": {},
     "output_type": "execute_result"
    }
   ],
   "source": [
    "donors.head()"
   ]
  },
  {
   "cell_type": "code",
   "execution_count": 11,
   "metadata": {},
   "outputs": [],
   "source": [
    "donors['sum_gift'] = donors['number_gift'] * donors['mean_gift']\n",
    "\n",
    "# for donors with only 1 gift, mean = 0\n",
    "donors['mean_gift_per_time'] = 0\n",
    "donors.loc[(donors['number_gift']>1),'mean_gift_per_time'] = donors['sum_gift'] / donors['time_since_first_and_last_gift']\n",
    "\n",
    "# for donors with only 1 gift, mean_gift_per_time will be inf. Assign mean gift/time to 0\n",
    "#donors.replace({np.inf:0}, inplace=True)"
   ]
  },
  {
   "cell_type": "code",
   "execution_count": 12,
   "metadata": {},
   "outputs": [
    {
     "data": {
      "text/html": [
       "<div>\n",
       "<style scoped>\n",
       "    .dataframe tbody tr th:only-of-type {\n",
       "        vertical-align: middle;\n",
       "    }\n",
       "\n",
       "    .dataframe tbody tr th {\n",
       "        vertical-align: top;\n",
       "    }\n",
       "\n",
       "    .dataframe thead th {\n",
       "        text-align: right;\n",
       "    }\n",
       "</style>\n",
       "<table border=\"1\" class=\"dataframe\">\n",
       "  <thead>\n",
       "    <tr style=\"text-align: right;\">\n",
       "      <th></th>\n",
       "      <th>target</th>\n",
       "      <th>gender_F</th>\n",
       "      <th>income_high</th>\n",
       "      <th>income_low</th>\n",
       "      <th>country_India</th>\n",
       "      <th>country_UK</th>\n",
       "      <th>age</th>\n",
       "      <th>time_since_last_gift</th>\n",
       "      <th>time_since_first_gift</th>\n",
       "      <th>max_gift</th>\n",
       "      <th>min_gift</th>\n",
       "      <th>mean_gift</th>\n",
       "      <th>number_gift</th>\n",
       "      <th>time_since_first_and_last_gift</th>\n",
       "      <th>one_time_donor</th>\n",
       "      <th>sum_gift</th>\n",
       "      <th>mean_gift_per_time</th>\n",
       "    </tr>\n",
       "  </thead>\n",
       "  <tbody>\n",
       "    <tr>\n",
       "      <th>0</th>\n",
       "      <td>0</td>\n",
       "      <td>1</td>\n",
       "      <td>0</td>\n",
       "      <td>1</td>\n",
       "      <td>1</td>\n",
       "      <td>0</td>\n",
       "      <td>65</td>\n",
       "      <td>530</td>\n",
       "      <td>2265</td>\n",
       "      <td>166.0</td>\n",
       "      <td>87.0</td>\n",
       "      <td>116.000000</td>\n",
       "      <td>7</td>\n",
       "      <td>1735</td>\n",
       "      <td>0</td>\n",
       "      <td>812.0</td>\n",
       "      <td>0.468012</td>\n",
       "    </tr>\n",
       "    <tr>\n",
       "      <th>1</th>\n",
       "      <td>0</td>\n",
       "      <td>1</td>\n",
       "      <td>0</td>\n",
       "      <td>0</td>\n",
       "      <td>1</td>\n",
       "      <td>0</td>\n",
       "      <td>71</td>\n",
       "      <td>715</td>\n",
       "      <td>715</td>\n",
       "      <td>90.0</td>\n",
       "      <td>90.0</td>\n",
       "      <td>90.000000</td>\n",
       "      <td>1</td>\n",
       "      <td>0</td>\n",
       "      <td>1</td>\n",
       "      <td>90.0</td>\n",
       "      <td>0.000000</td>\n",
       "    </tr>\n",
       "    <tr>\n",
       "      <th>2</th>\n",
       "      <td>0</td>\n",
       "      <td>1</td>\n",
       "      <td>0</td>\n",
       "      <td>0</td>\n",
       "      <td>1</td>\n",
       "      <td>0</td>\n",
       "      <td>28</td>\n",
       "      <td>150</td>\n",
       "      <td>1806</td>\n",
       "      <td>125.0</td>\n",
       "      <td>74.0</td>\n",
       "      <td>96.000000</td>\n",
       "      <td>9</td>\n",
       "      <td>1656</td>\n",
       "      <td>0</td>\n",
       "      <td>864.0</td>\n",
       "      <td>0.521739</td>\n",
       "    </tr>\n",
       "    <tr>\n",
       "      <th>3</th>\n",
       "      <td>0</td>\n",
       "      <td>1</td>\n",
       "      <td>0</td>\n",
       "      <td>1</td>\n",
       "      <td>0</td>\n",
       "      <td>0</td>\n",
       "      <td>52</td>\n",
       "      <td>725</td>\n",
       "      <td>2274</td>\n",
       "      <td>117.0</td>\n",
       "      <td>97.0</td>\n",
       "      <td>104.250000</td>\n",
       "      <td>4</td>\n",
       "      <td>1549</td>\n",
       "      <td>0</td>\n",
       "      <td>417.0</td>\n",
       "      <td>0.269206</td>\n",
       "    </tr>\n",
       "    <tr>\n",
       "      <th>4</th>\n",
       "      <td>0</td>\n",
       "      <td>1</td>\n",
       "      <td>1</td>\n",
       "      <td>0</td>\n",
       "      <td>0</td>\n",
       "      <td>0</td>\n",
       "      <td>82</td>\n",
       "      <td>805</td>\n",
       "      <td>805</td>\n",
       "      <td>80.0</td>\n",
       "      <td>80.0</td>\n",
       "      <td>80.000000</td>\n",
       "      <td>1</td>\n",
       "      <td>0</td>\n",
       "      <td>1</td>\n",
       "      <td>80.0</td>\n",
       "      <td>0.000000</td>\n",
       "    </tr>\n",
       "    <tr>\n",
       "      <th>...</th>\n",
       "      <td>...</td>\n",
       "      <td>...</td>\n",
       "      <td>...</td>\n",
       "      <td>...</td>\n",
       "      <td>...</td>\n",
       "      <td>...</td>\n",
       "      <td>...</td>\n",
       "      <td>...</td>\n",
       "      <td>...</td>\n",
       "      <td>...</td>\n",
       "      <td>...</td>\n",
       "      <td>...</td>\n",
       "      <td>...</td>\n",
       "      <td>...</td>\n",
       "      <td>...</td>\n",
       "      <td>...</td>\n",
       "      <td>...</td>\n",
       "    </tr>\n",
       "    <tr>\n",
       "      <th>24995</th>\n",
       "      <td>0</td>\n",
       "      <td>1</td>\n",
       "      <td>0</td>\n",
       "      <td>0</td>\n",
       "      <td>0</td>\n",
       "      <td>0</td>\n",
       "      <td>66</td>\n",
       "      <td>406</td>\n",
       "      <td>2662</td>\n",
       "      <td>94.0</td>\n",
       "      <td>43.0</td>\n",
       "      <td>68.625000</td>\n",
       "      <td>8</td>\n",
       "      <td>2256</td>\n",
       "      <td>0</td>\n",
       "      <td>549.0</td>\n",
       "      <td>0.243351</td>\n",
       "    </tr>\n",
       "    <tr>\n",
       "      <th>24996</th>\n",
       "      <td>0</td>\n",
       "      <td>0</td>\n",
       "      <td>0</td>\n",
       "      <td>0</td>\n",
       "      <td>1</td>\n",
       "      <td>0</td>\n",
       "      <td>50</td>\n",
       "      <td>621</td>\n",
       "      <td>2463</td>\n",
       "      <td>132.0</td>\n",
       "      <td>117.0</td>\n",
       "      <td>124.500000</td>\n",
       "      <td>2</td>\n",
       "      <td>1842</td>\n",
       "      <td>0</td>\n",
       "      <td>249.0</td>\n",
       "      <td>0.135179</td>\n",
       "    </tr>\n",
       "    <tr>\n",
       "      <th>24997</th>\n",
       "      <td>0</td>\n",
       "      <td>0</td>\n",
       "      <td>0</td>\n",
       "      <td>0</td>\n",
       "      <td>1</td>\n",
       "      <td>0</td>\n",
       "      <td>80</td>\n",
       "      <td>874</td>\n",
       "      <td>2143</td>\n",
       "      <td>117.0</td>\n",
       "      <td>90.0</td>\n",
       "      <td>103.500000</td>\n",
       "      <td>2</td>\n",
       "      <td>1269</td>\n",
       "      <td>0</td>\n",
       "      <td>207.0</td>\n",
       "      <td>0.163121</td>\n",
       "    </tr>\n",
       "    <tr>\n",
       "      <th>24998</th>\n",
       "      <td>0</td>\n",
       "      <td>0</td>\n",
       "      <td>1</td>\n",
       "      <td>0</td>\n",
       "      <td>0</td>\n",
       "      <td>0</td>\n",
       "      <td>85</td>\n",
       "      <td>964</td>\n",
       "      <td>2375</td>\n",
       "      <td>108.0</td>\n",
       "      <td>62.0</td>\n",
       "      <td>78.666667</td>\n",
       "      <td>3</td>\n",
       "      <td>1411</td>\n",
       "      <td>0</td>\n",
       "      <td>236.0</td>\n",
       "      <td>0.167257</td>\n",
       "    </tr>\n",
       "    <tr>\n",
       "      <th>24999</th>\n",
       "      <td>0</td>\n",
       "      <td>1</td>\n",
       "      <td>0</td>\n",
       "      <td>1</td>\n",
       "      <td>0</td>\n",
       "      <td>0</td>\n",
       "      <td>41</td>\n",
       "      <td>1291</td>\n",
       "      <td>2200</td>\n",
       "      <td>116.0</td>\n",
       "      <td>62.0</td>\n",
       "      <td>93.714286</td>\n",
       "      <td>7</td>\n",
       "      <td>909</td>\n",
       "      <td>0</td>\n",
       "      <td>656.0</td>\n",
       "      <td>0.721672</td>\n",
       "    </tr>\n",
       "  </tbody>\n",
       "</table>\n",
       "<p>25000 rows × 17 columns</p>\n",
       "</div>"
      ],
      "text/plain": [
       "       target  gender_F  income_high  income_low  country_India  country_UK  \\\n",
       "0           0         1            0           1              1           0   \n",
       "1           0         1            0           0              1           0   \n",
       "2           0         1            0           0              1           0   \n",
       "3           0         1            0           1              0           0   \n",
       "4           0         1            1           0              0           0   \n",
       "...       ...       ...          ...         ...            ...         ...   \n",
       "24995       0         1            0           0              0           0   \n",
       "24996       0         0            0           0              1           0   \n",
       "24997       0         0            0           0              1           0   \n",
       "24998       0         0            1           0              0           0   \n",
       "24999       0         1            0           1              0           0   \n",
       "\n",
       "       age  time_since_last_gift  time_since_first_gift  max_gift  min_gift  \\\n",
       "0       65                   530                   2265     166.0      87.0   \n",
       "1       71                   715                    715      90.0      90.0   \n",
       "2       28                   150                   1806     125.0      74.0   \n",
       "3       52                   725                   2274     117.0      97.0   \n",
       "4       82                   805                    805      80.0      80.0   \n",
       "...    ...                   ...                    ...       ...       ...   \n",
       "24995   66                   406                   2662      94.0      43.0   \n",
       "24996   50                   621                   2463     132.0     117.0   \n",
       "24997   80                   874                   2143     117.0      90.0   \n",
       "24998   85                   964                   2375     108.0      62.0   \n",
       "24999   41                  1291                   2200     116.0      62.0   \n",
       "\n",
       "        mean_gift  number_gift  time_since_first_and_last_gift  \\\n",
       "0      116.000000            7                            1735   \n",
       "1       90.000000            1                               0   \n",
       "2       96.000000            9                            1656   \n",
       "3      104.250000            4                            1549   \n",
       "4       80.000000            1                               0   \n",
       "...           ...          ...                             ...   \n",
       "24995   68.625000            8                            2256   \n",
       "24996  124.500000            2                            1842   \n",
       "24997  103.500000            2                            1269   \n",
       "24998   78.666667            3                            1411   \n",
       "24999   93.714286            7                             909   \n",
       "\n",
       "       one_time_donor  sum_gift  mean_gift_per_time  \n",
       "0                   0     812.0            0.468012  \n",
       "1                   1      90.0            0.000000  \n",
       "2                   0     864.0            0.521739  \n",
       "3                   0     417.0            0.269206  \n",
       "4                   1      80.0            0.000000  \n",
       "...               ...       ...                 ...  \n",
       "24995               0     549.0            0.243351  \n",
       "24996               0     249.0            0.135179  \n",
       "24997               0     207.0            0.163121  \n",
       "24998               0     236.0            0.167257  \n",
       "24999               0     656.0            0.721672  \n",
       "\n",
       "[25000 rows x 17 columns]"
      ]
     },
     "execution_count": 12,
     "metadata": {},
     "output_type": "execute_result"
    }
   ],
   "source": [
    "donors"
   ]
  },
  {
   "cell_type": "markdown",
   "metadata": {},
   "source": [
    "# Preprocessing\n",
    "I will do a simple plot of the non-binary features to look for features that have severe asymmetrical distributions and address them. Because models like LDA, Gaussian Naive Bayes, Logistic Regression, Linear Regression, etc., are explicitly calculated from the assumption that the distribution is a bivariate or multivariate normal.\n",
    "\n",
    "For the right skwewd data, I would like to use log, but there are many values at 0 so this wil result in an undefined\n",
    "\n",
    "* time_since_first_gift is left skewed (use squared)\n",
    "* time_since_first_and_last_gift is right skewed (use sqrt)\n",
    "* mean_gift_per_time is right skewed (use sqrt)"
   ]
  },
  {
   "cell_type": "code",
   "execution_count": 13,
   "metadata": {},
   "outputs": [],
   "source": [
    "import seaborn as sns\n",
    "import matplotlib.pyplot as plt\n",
    "from sklearn.preprocessing import StandardScaler"
   ]
  },
  {
   "cell_type": "code",
   "execution_count": 14,
   "metadata": {
    "scrolled": true
   },
   "outputs": [
    {
     "data": {
      "image/png": "[encoded data removed]",
      "text/plain": [
       "<Figure size 720x288 with 1 Axes>"
      ]
     },
     "metadata": {
      "needs_background": "light"
     },
     "output_type": "display_data"
    },
    {
     "data": {
      "image/png": "[encoded data removed]",
      "text/plain": [
       "<Figure size 720x288 with 1 Axes>"
      ]
     },
     "metadata": {
      "needs_background": "light"
     },
     "output_type": "display_data"
    },
    {
     "data": {
      "image/png": "[encoded data removed]",
      "text/plain": [
       "<Figure size 720x288 with 1 Axes>"
      ]
     },
     "metadata": {
      "needs_background": "light"
     },
     "output_type": "display_data"
    },
    {
     "data": {
      "image/png": "[encoded data removed]",
      "text/plain": [
       "<Figure size 720x288 with 1 Axes>"
      ]
     },
     "metadata": {
      "needs_background": "light"
     },
     "output_type": "display_data"
    },
    {
     "data": {
      "image/png": "[encoded data removed]",
      "text/plain": [
       "<Figure size 720x288 with 1 Axes>"
      ]
     },
     "metadata": {
      "needs_background": "light"
     },
     "output_type": "display_data"
    },
    {
     "data": {
      "image/png": "[encoded data removed]",
      "text/plain": [
       "<Figure size 720x288 with 1 Axes>"
      ]
     },
     "metadata": {
      "needs_background": "light"
     },
     "output_type": "display_data"
    },
    {
     "data": {
      "image/png": "[encoded data removed]",
      "text/plain": [
       "<Figure size 720x288 with 1 Axes>"
      ]
     },
     "metadata": {
      "needs_background": "light"
     },
     "output_type": "display_data"
    },
    {
     "data": {
      "image/png": "[encoded data removed]",
      "text/plain": [
       "<Figure size 720x288 with 1 Axes>"
      ]
     },
     "metadata": {
      "needs_background": "light"
     },
     "output_type": "display_data"
    },
    {
     "data": {
      "image/png": "[encoded data removed]",
      "text/plain": [
       "<Figure size 720x288 with 1 Axes>"
      ]
     },
     "metadata": {
      "needs_background": "light"
     },
     "output_type": "display_data"
    },
    {
     "data": {
      "image/png": "[encoded data removed]",
      "text/plain": [
       "<Figure size 720x288 with 1 Axes>"
      ]
     },
     "metadata": {
      "needs_background": "light"
     },
     "output_type": "display_data"
    }
   ],
   "source": [
    "for abc in donors.columns:\n",
    "    if (donors[abc].nunique()>2):\n",
    "        plt.figure(figsize=(10,4))\n",
    "        sns.histplot(data=donors, x=abc, bins=50, kde=True)\n",
    "        plt.show()"
   ]
  },
  {
   "cell_type": "code",
   "execution_count": 15,
   "metadata": {
    "scrolled": true
   },
   "outputs": [
    {
     "data": {
      "image/png": "[encoded data removed]",
      "text/plain": [
       "<Figure size 720x288 with 1 Axes>"
      ]
     },
     "metadata": {
      "needs_background": "light"
     },
     "output_type": "display_data"
    },
    {
     "data": {
      "image/png": "[encoded data removed]",
      "text/plain": [
       "<Figure size 720x288 with 1 Axes>"
      ]
     },
     "metadata": {
      "needs_background": "light"
     },
     "output_type": "display_data"
    },
    {
     "data": {
      "image/png": "[encoded data removed]",
      "text/plain": [
       "<Figure size 720x288 with 1 Axes>"
      ]
     },
     "metadata": {
      "needs_background": "light"
     },
     "output_type": "display_data"
    }
   ],
   "source": [
    "donors['time_since_first_gift'] = np.square(donors['time_since_first_gift'])\n",
    "donors['time_since_first_and_last_gift'] = np.sqrt(donors['time_since_first_and_last_gift'])\n",
    "donors['mean_gift_per_time'] = np.sqrt(donors['mean_gift_per_time'])\n",
    "\n",
    "plt.figure(figsize=(10,4))\n",
    "sns.histplot(data=donors, x='time_since_first_gift', bins=50, kde=True)\n",
    "plt.show()\n",
    "\n",
    "plt.figure(figsize=(10,4))\n",
    "sns.histplot(data=donors, x='time_since_first_and_last_gift', bins=50, kde=True)\n",
    "plt.show()\n",
    "\n",
    "plt.figure(figsize=(10,4))\n",
    "sns.histplot(data=donors, x='mean_gift_per_time', bins=50, kde=True)\n",
    "plt.show()"
   ]
  },
  {
   "cell_type": "code",
   "execution_count": 16,
   "metadata": {},
   "outputs": [
    {
     "data": {
      "text/html": [
       "<div>\n",
       "<style scoped>\n",
       "    .dataframe tbody tr th:only-of-type {\n",
       "        vertical-align: middle;\n",
       "    }\n",
       "\n",
       "    .dataframe tbody tr th {\n",
       "        vertical-align: top;\n",
       "    }\n",
       "\n",
       "    .dataframe thead th {\n",
       "        text-align: right;\n",
       "    }\n",
       "</style>\n",
       "<table border=\"1\" class=\"dataframe\">\n",
       "  <thead>\n",
       "    <tr style=\"text-align: right;\">\n",
       "      <th></th>\n",
       "      <th>target</th>\n",
       "      <th>gender_F</th>\n",
       "      <th>income_high</th>\n",
       "      <th>income_low</th>\n",
       "      <th>country_India</th>\n",
       "      <th>country_UK</th>\n",
       "      <th>age</th>\n",
       "      <th>time_since_last_gift</th>\n",
       "      <th>time_since_first_gift</th>\n",
       "      <th>max_gift</th>\n",
       "      <th>min_gift</th>\n",
       "      <th>mean_gift</th>\n",
       "      <th>number_gift</th>\n",
       "      <th>time_since_first_and_last_gift</th>\n",
       "      <th>one_time_donor</th>\n",
       "      <th>sum_gift</th>\n",
       "      <th>mean_gift_per_time</th>\n",
       "    </tr>\n",
       "  </thead>\n",
       "  <tbody>\n",
       "    <tr>\n",
       "      <th>count</th>\n",
       "      <td>25000.000000</td>\n",
       "      <td>25000.00000</td>\n",
       "      <td>25000.000000</td>\n",
       "      <td>25000.000000</td>\n",
       "      <td>25000.000000</td>\n",
       "      <td>25000.000000</td>\n",
       "      <td>25000.000000</td>\n",
       "      <td>25000.000000</td>\n",
       "      <td>2.500000e+04</td>\n",
       "      <td>25000.000000</td>\n",
       "      <td>25000.000000</td>\n",
       "      <td>25000.000000</td>\n",
       "      <td>25000.00000</td>\n",
       "      <td>25000.000000</td>\n",
       "      <td>25000.000000</td>\n",
       "      <td>25000.000000</td>\n",
       "      <td>25000.000000</td>\n",
       "    </tr>\n",
       "    <tr>\n",
       "      <th>mean</th>\n",
       "      <td>0.047480</td>\n",
       "      <td>0.50316</td>\n",
       "      <td>0.164320</td>\n",
       "      <td>0.208200</td>\n",
       "      <td>0.495160</td>\n",
       "      <td>0.101920</td>\n",
       "      <td>53.605080</td>\n",
       "      <td>757.845560</td>\n",
       "      <td>5.065367e+06</td>\n",
       "      <td>111.167640</td>\n",
       "      <td>69.830680</td>\n",
       "      <td>90.455932</td>\n",
       "      <td>5.22572</td>\n",
       "      <td>34.471014</td>\n",
       "      <td>0.118160</td>\n",
       "      <td>473.705520</td>\n",
       "      <td>0.522635</td>\n",
       "    </tr>\n",
       "    <tr>\n",
       "      <th>std</th>\n",
       "      <td>0.212667</td>\n",
       "      <td>0.50000</td>\n",
       "      <td>0.370573</td>\n",
       "      <td>0.406029</td>\n",
       "      <td>0.499987</td>\n",
       "      <td>0.302549</td>\n",
       "      <td>17.382771</td>\n",
       "      <td>342.286498</td>\n",
       "      <td>2.285935e+06</td>\n",
       "      <td>20.377627</td>\n",
       "      <td>20.085216</td>\n",
       "      <td>15.466240</td>\n",
       "      <td>2.83908</td>\n",
       "      <td>14.355974</td>\n",
       "      <td>0.322804</td>\n",
       "      <td>270.930246</td>\n",
       "      <td>0.322259</td>\n",
       "    </tr>\n",
       "    <tr>\n",
       "      <th>min</th>\n",
       "      <td>0.000000</td>\n",
       "      <td>0.00000</td>\n",
       "      <td>0.000000</td>\n",
       "      <td>0.000000</td>\n",
       "      <td>0.000000</td>\n",
       "      <td>0.000000</td>\n",
       "      <td>19.000000</td>\n",
       "      <td>32.000000</td>\n",
       "      <td>1.024000e+03</td>\n",
       "      <td>18.000000</td>\n",
       "      <td>2.000000</td>\n",
       "      <td>18.000000</td>\n",
       "      <td>1.00000</td>\n",
       "      <td>0.000000</td>\n",
       "      <td>0.000000</td>\n",
       "      <td>18.000000</td>\n",
       "      <td>0.000000</td>\n",
       "    </tr>\n",
       "    <tr>\n",
       "      <th>25%</th>\n",
       "      <td>0.000000</td>\n",
       "      <td>0.00000</td>\n",
       "      <td>0.000000</td>\n",
       "      <td>0.000000</td>\n",
       "      <td>0.000000</td>\n",
       "      <td>0.000000</td>\n",
       "      <td>41.000000</td>\n",
       "      <td>519.000000</td>\n",
       "      <td>3.667225e+06</td>\n",
       "      <td>99.000000</td>\n",
       "      <td>56.000000</td>\n",
       "      <td>80.666667</td>\n",
       "      <td>3.00000</td>\n",
       "      <td>32.741411</td>\n",
       "      <td>0.000000</td>\n",
       "      <td>266.000000</td>\n",
       "      <td>0.435287</td>\n",
       "    </tr>\n",
       "    <tr>\n",
       "      <th>50%</th>\n",
       "      <td>0.000000</td>\n",
       "      <td>1.00000</td>\n",
       "      <td>0.000000</td>\n",
       "      <td>0.000000</td>\n",
       "      <td>0.000000</td>\n",
       "      <td>0.000000</td>\n",
       "      <td>54.000000</td>\n",
       "      <td>736.000000</td>\n",
       "      <td>5.827396e+06</td>\n",
       "      <td>112.000000</td>\n",
       "      <td>69.000000</td>\n",
       "      <td>90.571429</td>\n",
       "      <td>5.00000</td>\n",
       "      <td>39.408121</td>\n",
       "      <td>0.000000</td>\n",
       "      <td>453.000000</td>\n",
       "      <td>0.546246</td>\n",
       "    </tr>\n",
       "    <tr>\n",
       "      <th>75%</th>\n",
       "      <td>0.000000</td>\n",
       "      <td>1.00000</td>\n",
       "      <td>0.000000</td>\n",
       "      <td>0.000000</td>\n",
       "      <td>1.000000</td>\n",
       "      <td>0.000000</td>\n",
       "      <td>64.000000</td>\n",
       "      <td>985.000000</td>\n",
       "      <td>6.932689e+06</td>\n",
       "      <td>125.000000</td>\n",
       "      <td>82.000000</td>\n",
       "      <td>100.444444</td>\n",
       "      <td>7.00000</td>\n",
       "      <td>43.531598</td>\n",
       "      <td>0.000000</td>\n",
       "      <td>648.000000</td>\n",
       "      <td>0.651761</td>\n",
       "    </tr>\n",
       "    <tr>\n",
       "      <th>max</th>\n",
       "      <td>1.000000</td>\n",
       "      <td>1.00000</td>\n",
       "      <td>1.000000</td>\n",
       "      <td>1.000000</td>\n",
       "      <td>1.000000</td>\n",
       "      <td>1.000000</td>\n",
       "      <td>109.000000</td>\n",
       "      <td>2305.000000</td>\n",
       "      <td>7.678441e+06</td>\n",
       "      <td>194.000000</td>\n",
       "      <td>194.000000</td>\n",
       "      <td>194.000000</td>\n",
       "      <td>18.00000</td>\n",
       "      <td>52.249402</td>\n",
       "      <td>1.000000</td>\n",
       "      <td>1766.000000</td>\n",
       "      <td>12.247449</td>\n",
       "    </tr>\n",
       "  </tbody>\n",
       "</table>\n",
       "</div>"
      ],
      "text/plain": [
       "             target     gender_F   income_high    income_low  country_India  \\\n",
       "count  25000.000000  25000.00000  25000.000000  25000.000000   25000.000000   \n",
       "mean       0.047480      0.50316      0.164320      0.208200       0.495160   \n",
       "std        0.212667      0.50000      0.370573      0.406029       0.499987   \n",
       "min        0.000000      0.00000      0.000000      0.000000       0.000000   \n",
       "25%        0.000000      0.00000      0.000000      0.000000       0.000000   \n",
       "50%        0.000000      1.00000      0.000000      0.000000       0.000000   \n",
       "75%        0.000000      1.00000      0.000000      0.000000       1.000000   \n",
       "max        1.000000      1.00000      1.000000      1.000000       1.000000   \n",
       "\n",
       "         country_UK           age  time_since_last_gift  \\\n",
       "count  25000.000000  25000.000000          25000.000000   \n",
       "mean       0.101920     53.605080            757.845560   \n",
       "std        0.302549     17.382771            342.286498   \n",
       "min        0.000000     19.000000             32.000000   \n",
       "25%        0.000000     41.000000            519.000000   \n",
       "50%        0.000000     54.000000            736.000000   \n",
       "75%        0.000000     64.000000            985.000000   \n",
       "max        1.000000    109.000000           2305.000000   \n",
       "\n",
       "       time_since_first_gift      max_gift      min_gift     mean_gift  \\\n",
       "count           2.500000e+04  25000.000000  25000.000000  25000.000000   \n",
       "mean            5.065367e+06    111.167640     69.830680     90.455932   \n",
       "std             2.285935e+06     20.377627     20.085216     15.466240   \n",
       "min             1.024000e+03     18.000000      2.000000     18.000000   \n",
       "25%             3.667225e+06     99.000000     56.000000     80.666667   \n",
       "50%             5.827396e+06    112.000000     69.000000     90.571429   \n",
       "75%             6.932689e+06    125.000000     82.000000    100.444444   \n",
       "max             7.678441e+06    194.000000    194.000000    194.000000   \n",
       "\n",
       "       number_gift  time_since_first_and_last_gift  one_time_donor  \\\n",
       "count  25000.00000                    25000.000000    25000.000000   \n",
       "mean       5.22572                       34.471014        0.118160   \n",
       "std        2.83908                       14.355974        0.322804   \n",
       "min        1.00000                        0.000000        0.000000   \n",
       "25%        3.00000                       32.741411        0.000000   \n",
       "50%        5.00000                       39.408121        0.000000   \n",
       "75%        7.00000                       43.531598        0.000000   \n",
       "max       18.00000                       52.249402        1.000000   \n",
       "\n",
       "           sum_gift  mean_gift_per_time  \n",
       "count  25000.000000        25000.000000  \n",
       "mean     473.705520            0.522635  \n",
       "std      270.930246            0.322259  \n",
       "min       18.000000            0.000000  \n",
       "25%      266.000000            0.435287  \n",
       "50%      453.000000            0.546246  \n",
       "75%      648.000000            0.651761  \n",
       "max     1766.000000           12.247449  "
      ]
     },
     "execution_count": 16,
     "metadata": {},
     "output_type": "execute_result"
    }
   ],
   "source": [
    "donors.describe()"
   ]
  },
  {
   "cell_type": "raw",
   "metadata": {},
   "source": [
    "These distributions look better to work with"
   ]
  },
  {
   "cell_type": "markdown",
   "metadata": {},
   "source": [
    "# Feature selection"
   ]
  },
  {
   "cell_type": "code",
   "execution_count": 17,
   "metadata": {},
   "outputs": [],
   "source": [
    "from sklearn.linear_model import LogisticRegression\n",
    "from sklearn.metrics import roc_auc_score\n",
    "from sklearn.preprocessing import StandardScaler"
   ]
  },
  {
   "cell_type": "code",
   "execution_count": 18,
   "metadata": {},
   "outputs": [
    {
     "data": {
      "text/html": [
       "<div>\n",
       "<style scoped>\n",
       "    .dataframe tbody tr th:only-of-type {\n",
       "        vertical-align: middle;\n",
       "    }\n",
       "\n",
       "    .dataframe tbody tr th {\n",
       "        vertical-align: top;\n",
       "    }\n",
       "\n",
       "    .dataframe thead th {\n",
       "        text-align: right;\n",
       "    }\n",
       "</style>\n",
       "<table border=\"1\" class=\"dataframe\">\n",
       "  <thead>\n",
       "    <tr style=\"text-align: right;\">\n",
       "      <th></th>\n",
       "      <th>target</th>\n",
       "      <th>gender_F</th>\n",
       "      <th>income_high</th>\n",
       "      <th>income_low</th>\n",
       "      <th>country_India</th>\n",
       "      <th>country_UK</th>\n",
       "      <th>age</th>\n",
       "      <th>time_since_last_gift</th>\n",
       "      <th>time_since_first_gift</th>\n",
       "      <th>max_gift</th>\n",
       "      <th>min_gift</th>\n",
       "      <th>mean_gift</th>\n",
       "      <th>number_gift</th>\n",
       "      <th>time_since_first_and_last_gift</th>\n",
       "      <th>one_time_donor</th>\n",
       "      <th>sum_gift</th>\n",
       "      <th>mean_gift_per_time</th>\n",
       "    </tr>\n",
       "  </thead>\n",
       "  <tbody>\n",
       "    <tr>\n",
       "      <th>0</th>\n",
       "      <td>0</td>\n",
       "      <td>0.99370</td>\n",
       "      <td>-0.443430</td>\n",
       "      <td>1.950147</td>\n",
       "      <td>1.009727</td>\n",
       "      <td>-0.336878</td>\n",
       "      <td>0.655543</td>\n",
       "      <td>-0.665671</td>\n",
       "      <td>0.028373</td>\n",
       "      <td>2.690866</td>\n",
       "      <td>0.854841</td>\n",
       "      <td>1.651635</td>\n",
       "      <td>0.624962</td>\n",
       "      <td>0.500312</td>\n",
       "      <td>-0.366050</td>\n",
       "      <td>1.248665</td>\n",
       "      <td>0.501093</td>\n",
       "    </tr>\n",
       "    <tr>\n",
       "      <th>1</th>\n",
       "      <td>0</td>\n",
       "      <td>0.99370</td>\n",
       "      <td>-0.443430</td>\n",
       "      <td>-0.512782</td>\n",
       "      <td>1.009727</td>\n",
       "      <td>-0.336878</td>\n",
       "      <td>1.000719</td>\n",
       "      <td>-0.125177</td>\n",
       "      <td>-1.992285</td>\n",
       "      <td>-1.038789</td>\n",
       "      <td>1.004207</td>\n",
       "      <td>-0.029480</td>\n",
       "      <td>-1.488442</td>\n",
       "      <td>-2.401210</td>\n",
       "      <td>2.731868</td>\n",
       "      <td>-1.416280</td>\n",
       "      <td>-1.621821</td>\n",
       "    </tr>\n",
       "    <tr>\n",
       "      <th>2</th>\n",
       "      <td>0</td>\n",
       "      <td>0.99370</td>\n",
       "      <td>-0.443430</td>\n",
       "      <td>-0.512782</td>\n",
       "      <td>1.009727</td>\n",
       "      <td>-0.336878</td>\n",
       "      <td>-1.473044</td>\n",
       "      <td>-1.775874</td>\n",
       "      <td>-0.789072</td>\n",
       "      <td>0.678815</td>\n",
       "      <td>0.207586</td>\n",
       "      <td>0.358470</td>\n",
       "      <td>1.329429</td>\n",
       "      <td>0.433484</td>\n",
       "      <td>-0.366050</td>\n",
       "      <td>1.440601</td>\n",
       "      <td>0.619638</td>\n",
       "    </tr>\n",
       "    <tr>\n",
       "      <th>3</th>\n",
       "      <td>0</td>\n",
       "      <td>0.99370</td>\n",
       "      <td>-0.443430</td>\n",
       "      <td>1.950147</td>\n",
       "      <td>-0.990366</td>\n",
       "      <td>-0.336878</td>\n",
       "      <td>-0.092339</td>\n",
       "      <td>-0.095961</td>\n",
       "      <td>0.046244</td>\n",
       "      <td>0.286220</td>\n",
       "      <td>1.352729</td>\n",
       "      <td>0.891900</td>\n",
       "      <td>-0.431740</td>\n",
       "      <td>0.340375</td>\n",
       "      <td>-0.366050</td>\n",
       "      <td>-0.209304</td>\n",
       "      <td>-0.011745</td>\n",
       "    </tr>\n",
       "    <tr>\n",
       "      <th>4</th>\n",
       "      <td>0</td>\n",
       "      <td>0.99370</td>\n",
       "      <td>2.255147</td>\n",
       "      <td>-0.512782</td>\n",
       "      <td>-0.990366</td>\n",
       "      <td>-0.336878</td>\n",
       "      <td>1.633542</td>\n",
       "      <td>0.137766</td>\n",
       "      <td>-1.932439</td>\n",
       "      <td>-1.529534</td>\n",
       "      <td>0.506319</td>\n",
       "      <td>-0.676062</td>\n",
       "      <td>-1.488442</td>\n",
       "      <td>-2.401210</td>\n",
       "      <td>2.731868</td>\n",
       "      <td>-1.453191</td>\n",
       "      <td>-1.621821</td>\n",
       "    </tr>\n",
       "    <tr>\n",
       "      <th>...</th>\n",
       "      <td>...</td>\n",
       "      <td>...</td>\n",
       "      <td>...</td>\n",
       "      <td>...</td>\n",
       "      <td>...</td>\n",
       "      <td>...</td>\n",
       "      <td>...</td>\n",
       "      <td>...</td>\n",
       "      <td>...</td>\n",
       "      <td>...</td>\n",
       "      <td>...</td>\n",
       "      <td>...</td>\n",
       "      <td>...</td>\n",
       "      <td>...</td>\n",
       "      <td>...</td>\n",
       "      <td>...</td>\n",
       "      <td>...</td>\n",
       "    </tr>\n",
       "    <tr>\n",
       "      <th>24995</th>\n",
       "      <td>0</td>\n",
       "      <td>0.99370</td>\n",
       "      <td>-0.443430</td>\n",
       "      <td>-0.512782</td>\n",
       "      <td>-0.990366</td>\n",
       "      <td>-0.336878</td>\n",
       "      <td>0.713072</td>\n",
       "      <td>-1.027948</td>\n",
       "      <td>0.884066</td>\n",
       "      <td>-0.842492</td>\n",
       "      <td>-1.335869</td>\n",
       "      <td>-1.411550</td>\n",
       "      <td>0.977195</td>\n",
       "      <td>0.907400</td>\n",
       "      <td>-0.366050</td>\n",
       "      <td>0.277917</td>\n",
       "      <td>-0.091013</td>\n",
       "    </tr>\n",
       "    <tr>\n",
       "      <th>24996</th>\n",
       "      <td>0</td>\n",
       "      <td>-1.00634</td>\n",
       "      <td>-0.443430</td>\n",
       "      <td>-0.512782</td>\n",
       "      <td>1.009727</td>\n",
       "      <td>-0.336878</td>\n",
       "      <td>-0.207398</td>\n",
       "      <td>-0.399806</td>\n",
       "      <td>0.437905</td>\n",
       "      <td>1.022336</td>\n",
       "      <td>2.348507</td>\n",
       "      <td>2.201230</td>\n",
       "      <td>-1.136208</td>\n",
       "      <td>0.588444</td>\n",
       "      <td>-0.366050</td>\n",
       "      <td>-0.829402</td>\n",
       "      <td>-0.480891</td>\n",
       "    </tr>\n",
       "    <tr>\n",
       "      <th>24997</th>\n",
       "      <td>0</td>\n",
       "      <td>-1.00634</td>\n",
       "      <td>-0.443430</td>\n",
       "      <td>-0.512782</td>\n",
       "      <td>1.009727</td>\n",
       "      <td>-0.336878</td>\n",
       "      <td>1.518483</td>\n",
       "      <td>0.339355</td>\n",
       "      <td>-0.206886</td>\n",
       "      <td>0.286220</td>\n",
       "      <td>1.004207</td>\n",
       "      <td>0.843407</td>\n",
       "      <td>-1.136208</td>\n",
       "      <td>0.080248</td>\n",
       "      <td>-0.366050</td>\n",
       "      <td>-0.984426</td>\n",
       "      <td>-0.368511</td>\n",
       "    </tr>\n",
       "    <tr>\n",
       "      <th>24998</th>\n",
       "      <td>0</td>\n",
       "      <td>-1.00634</td>\n",
       "      <td>2.255147</td>\n",
       "      <td>-0.512782</td>\n",
       "      <td>-0.990366</td>\n",
       "      <td>-0.336878</td>\n",
       "      <td>1.806130</td>\n",
       "      <td>0.602298</td>\n",
       "      <td>0.251656</td>\n",
       "      <td>-0.155450</td>\n",
       "      <td>-0.389881</td>\n",
       "      <td>-0.762273</td>\n",
       "      <td>-0.783974</td>\n",
       "      <td>0.215404</td>\n",
       "      <td>-0.366050</td>\n",
       "      <td>-0.877386</td>\n",
       "      <td>-0.352719</td>\n",
       "    </tr>\n",
       "    <tr>\n",
       "      <th>24999</th>\n",
       "      <td>0</td>\n",
       "      <td>0.99370</td>\n",
       "      <td>-0.443430</td>\n",
       "      <td>1.950147</td>\n",
       "      <td>-0.990366</td>\n",
       "      <td>-0.336878</td>\n",
       "      <td>-0.725162</td>\n",
       "      <td>1.557657</td>\n",
       "      <td>-0.098590</td>\n",
       "      <td>0.237145</td>\n",
       "      <td>-0.389881</td>\n",
       "      <td>0.210679</td>\n",
       "      <td>0.624962</td>\n",
       "      <td>-0.301023</td>\n",
       "      <td>-0.366050</td>\n",
       "      <td>0.672860</td>\n",
       "      <td>1.014353</td>\n",
       "    </tr>\n",
       "  </tbody>\n",
       "</table>\n",
       "<p>25000 rows × 17 columns</p>\n",
       "</div>"
      ],
      "text/plain": [
       "       target  gender_F  income_high  income_low  country_India  country_UK  \\\n",
       "0           0   0.99370    -0.443430    1.950147       1.009727   -0.336878   \n",
       "1           0   0.99370    -0.443430   -0.512782       1.009727   -0.336878   \n",
       "2           0   0.99370    -0.443430   -0.512782       1.009727   -0.336878   \n",
       "3           0   0.99370    -0.443430    1.950147      -0.990366   -0.336878   \n",
       "4           0   0.99370     2.255147   -0.512782      -0.990366   -0.336878   \n",
       "...       ...       ...          ...         ...            ...         ...   \n",
       "24995       0   0.99370    -0.443430   -0.512782      -0.990366   -0.336878   \n",
       "24996       0  -1.00634    -0.443430   -0.512782       1.009727   -0.336878   \n",
       "24997       0  -1.00634    -0.443430   -0.512782       1.009727   -0.336878   \n",
       "24998       0  -1.00634     2.255147   -0.512782      -0.990366   -0.336878   \n",
       "24999       0   0.99370    -0.443430    1.950147      -0.990366   -0.336878   \n",
       "\n",
       "            age  time_since_last_gift  time_since_first_gift  max_gift  \\\n",
       "0      0.655543             -0.665671               0.028373  2.690866   \n",
       "1      1.000719             -0.125177              -1.992285 -1.038789   \n",
       "2     -1.473044             -1.775874              -0.789072  0.678815   \n",
       "3     -0.092339             -0.095961               0.046244  0.286220   \n",
       "4      1.633542              0.137766              -1.932439 -1.529534   \n",
       "...         ...                   ...                    ...       ...   \n",
       "24995  0.713072             -1.027948               0.884066 -0.842492   \n",
       "24996 -0.207398             -0.399806               0.437905  1.022336   \n",
       "24997  1.518483              0.339355              -0.206886  0.286220   \n",
       "24998  1.806130              0.602298               0.251656 -0.155450   \n",
       "24999 -0.725162              1.557657              -0.098590  0.237145   \n",
       "\n",
       "       min_gift  mean_gift  number_gift  time_since_first_and_last_gift  \\\n",
       "0      0.854841   1.651635     0.624962                        0.500312   \n",
       "1      1.004207  -0.029480    -1.488442                       -2.401210   \n",
       "2      0.207586   0.358470     1.329429                        0.433484   \n",
       "3      1.352729   0.891900    -0.431740                        0.340375   \n",
       "4      0.506319  -0.676062    -1.488442                       -2.401210   \n",
       "...         ...        ...          ...                             ...   \n",
       "24995 -1.335869  -1.411550     0.977195                        0.907400   \n",
       "24996  2.348507   2.201230    -1.136208                        0.588444   \n",
       "24997  1.004207   0.843407    -1.136208                        0.080248   \n",
       "24998 -0.389881  -0.762273    -0.783974                        0.215404   \n",
       "24999 -0.389881   0.210679     0.624962                       -0.301023   \n",
       "\n",
       "       one_time_donor  sum_gift  mean_gift_per_time  \n",
       "0           -0.366050  1.248665            0.501093  \n",
       "1            2.731868 -1.416280           -1.621821  \n",
       "2           -0.366050  1.440601            0.619638  \n",
       "3           -0.366050 -0.209304           -0.011745  \n",
       "4            2.731868 -1.453191           -1.621821  \n",
       "...               ...       ...                 ...  \n",
       "24995       -0.366050  0.277917           -0.091013  \n",
       "24996       -0.366050 -0.829402           -0.480891  \n",
       "24997       -0.366050 -0.984426           -0.368511  \n",
       "24998       -0.366050 -0.877386           -0.352719  \n",
       "24999       -0.366050  0.672860            1.014353  \n",
       "\n",
       "[25000 rows x 17 columns]"
      ]
     },
     "execution_count": 18,
     "metadata": {},
     "output_type": "execute_result"
    }
   ],
   "source": [
    "# Scale all the features except target\n",
    "# scaling the binary features does nothing, but does no harm, so I will let them get scaled\n",
    "S = StandardScaler()\n",
    "S.fit(donors)\n",
    "donors_scaled = pd.DataFrame(data=S.transform(donors), index=donors.index, columns=donors.columns)\n",
    "donors_scaled['target'] = donors['target']\n",
    "donors_scaled"
   ]
  },
  {
   "cell_type": "raw",
   "metadata": {},
   "source": [
    "ROC curve is a performance measurement for the classification problems at various threshold settings"
   ]
  },
  {
   "cell_type": "markdown",
   "metadata": {},
   "source": [
    "### Testing a base model"
   ]
  },
  {
   "cell_type": "code",
   "execution_count": 19,
   "metadata": {},
   "outputs": [],
   "source": [
    "def area_under_curve(variables, target, basetable):\n",
    "    X = basetable[variables].values\n",
    "    Y = np.squeeze(basetable[target].values)\n",
    "    logreg = LogisticRegression(random_state=1, max_iter=150)\n",
    "    logreg.fit(X, Y)\n",
    "    predictions = logreg.predict_proba(X)[:,1]\n",
    "    \n",
    "    auc = roc_auc_score(Y, predictions)\n",
    "    return auc"
   ]
  },
  {
   "cell_type": "code",
   "execution_count": 20,
   "metadata": {
    "scrolled": true
   },
   "outputs": [
    {
     "name": "stdout",
     "output_type": "stream",
     "text": [
      "0.5434\n"
     ]
    }
   ],
   "source": [
    "auc = area_under_curve(['age', 'gender_F'], ['target'], donors_scaled)\n",
    "print(round(auc, 4))"
   ]
  },
  {
   "cell_type": "markdown",
   "metadata": {},
   "source": [
    "### Testing a model with best feature selection algoithm based on AUC score"
   ]
  },
  {
   "cell_type": "code",
   "execution_count": 21,
   "metadata": {},
   "outputs": [],
   "source": [
    "# check the auc score of all candidate variables and return the best variable\n",
    "def next_best(current_variables, candidate_variables, target, basetable):\n",
    "    best_auc = -1\n",
    "    best_variable = None\n",
    "    for v in candidate_variables:\n",
    "        auc_v = area_under_curve(current_variables + [v], target, basetable)\n",
    "        if auc_v >= best_auc:\n",
    "            best_auc = auc_v\n",
    "            best_variable = v\n",
    "            \n",
    "    return best_variable"
   ]
  },
  {
   "cell_type": "code",
   "execution_count": 22,
   "metadata": {},
   "outputs": [
    {
     "name": "stdout",
     "output_type": "stream",
     "text": [
      "max_gift\n"
     ]
    }
   ],
   "source": [
    "current_variables = ['age', 'gender_F']\n",
    "candidate_variables = ['min_gift', 'max_gift', 'mean_gift']\n",
    "target = ['target']\n",
    "\n",
    "next_variable = next_best(current_variables, candidate_variables, target, donors_scaled)\n",
    "print(next_variable)"
   ]
  },
  {
   "cell_type": "code",
   "execution_count": 23,
   "metadata": {
    "scrolled": true
   },
   "outputs": [
    {
     "name": "stdout",
     "output_type": "stream",
     "text": [
      "['max_gift', 'age', 'mean_gift', 'min_gift', 'income_low']\n"
     ]
    }
   ],
   "source": [
    "candidate_variables = ['min_gift', 'max_gift', 'mean_gift', 'age', 'gender_F', 'country_UK', 'income_low']\n",
    "current_variables = []\n",
    "target = ['target']\n",
    "\n",
    "max_variables = 5\n",
    "number_iterations = min(max_variables, len(candidate_variables))\n",
    "\n",
    "for i in range(number_iterations):\n",
    "    next_variable = next_best(current_variables, candidate_variables, target, donors_scaled)\n",
    "    current_variables.append(next_variable)\n",
    "    candidate_variables.remove(next_variable)\n",
    "    \n",
    "print(current_variables)"
   ]
  },
  {
   "cell_type": "code",
   "execution_count": 24,
   "metadata": {},
   "outputs": [
    {
     "name": "stdout",
     "output_type": "stream",
     "text": [
      "0.7155\n"
     ]
    }
   ],
   "source": [
    "auc = area_under_curve(current_variables, ['target'], donors_scaled)\n",
    "print(round(auc, 4))"
   ]
  },
  {
   "cell_type": "markdown",
   "metadata": {},
   "source": [
    "### Running next best algorithm on all features"
   ]
  },
  {
   "cell_type": "code",
   "execution_count": 25,
   "metadata": {
    "scrolled": true
   },
   "outputs": [
    {
     "name": "stdout",
     "output_type": "stream",
     "text": [
      "\n",
      "\n",
      "\n",
      "\n",
      "\n",
      "['sum_gift', 'mean_gift', 'time_since_last_gift', 'age', 'income_high']\n"
     ]
    }
   ],
   "source": [
    "candidate_variables = list(donors.columns[1:])\n",
    "current_variables = []\n",
    "target = ['target']\n",
    "\n",
    "max_variables = 5\n",
    "number_iterations = min(max_variables, len(candidate_variables))\n",
    "\n",
    "for i in range(number_iterations):\n",
    "    next_variable = next_best(current_variables, candidate_variables, target, donors_scaled)\n",
    "    print()\n",
    "    current_variables.append(next_variable)\n",
    "    candidate_variables.remove(next_variable)\n",
    "    \n",
    "print(current_variables)"
   ]
  },
  {
   "cell_type": "code",
   "execution_count": 26,
   "metadata": {},
   "outputs": [
    {
     "name": "stdout",
     "output_type": "stream",
     "text": [
      "0.7712\n"
     ]
    }
   ],
   "source": [
    "auc = area_under_curve(current_variables, ['target'], donors_scaled)\n",
    "print(round(auc, 4))"
   ]
  },
  {
   "cell_type": "markdown",
   "metadata": {},
   "source": [
    "### Plotting AUC curves of a train/test split to determine best number of features to use\n",
    "* #### We want the model to be as accurate as possible\n",
    "* #### We do not want the model to be overly complex (bad out of sample accuracy) by reducing number of features"
   ]
  },
  {
   "cell_type": "code",
   "execution_count": 27,
   "metadata": {},
   "outputs": [],
   "source": [
    "from sklearn.model_selection import train_test_split\n",
    "import numpy as np\n",
    "import matplotlib.pyplot as plt"
   ]
  },
  {
   "cell_type": "code",
   "execution_count": 28,
   "metadata": {
    "scrolled": true
   },
   "outputs": [
    {
     "name": "stdout",
     "output_type": "stream",
     "text": [
      "0.05\n",
      "0.05\n"
     ]
    },
    {
     "name": "stderr",
     "output_type": "stream",
     "text": [
      "C:\\Users\\jerro\\AppData\\Local\\Temp\\ipykernel_1392\\1449941887.py:2: FutureWarning: In a future version of pandas all arguments of DataFrame.drop except for the argument 'labels' will be keyword-only.\n",
      "  x = donors_scaled.drop('target', 1)\n"
     ]
    }
   ],
   "source": [
    "y = donors_scaled[['target']]\n",
    "x = donors_scaled.drop('target', 1)\n",
    "\n",
    "x_train, x_test, y_train, y_test = train_test_split(x, y, test_size=0.4, stratify=y)\n",
    "\n",
    "print(round(sum(y_train.target)/len(x_train), 2))\n",
    "print(round(sum(y_test.target)/len(x_test), 2))"
   ]
  },
  {
   "cell_type": "code",
   "execution_count": 29,
   "metadata": {
    "scrolled": false
   },
   "outputs": [],
   "source": [
    "train = pd.concat([y_train, x_train], axis=1)\n",
    "test = pd.concat([y_test, x_test], axis=1)"
   ]
  },
  {
   "cell_type": "code",
   "execution_count": 30,
   "metadata": {},
   "outputs": [],
   "source": [
    "# raising max_iter so as to not run into errors\n",
    "def area_under_curve(variables, target, basetable):\n",
    "    X = basetable[variables].values\n",
    "    Y = np.squeeze(basetable[target].values)\n",
    "    logreg = LogisticRegression(random_state=1, max_iter=1500)\n",
    "    logreg.fit(X, Y)\n",
    "    predictions = logreg.predict_proba(X)[:,1]\n",
    "    \n",
    "    auc = roc_auc_score(Y, predictions)\n",
    "    return auc"
   ]
  },
  {
   "cell_type": "code",
   "execution_count": 31,
   "metadata": {},
   "outputs": [
    {
     "name": "stdout",
     "output_type": "stream",
     "text": [
      "16\n"
     ]
    }
   ],
   "source": [
    "# Store the train and test AUC\n",
    "auc_values_train = []\n",
    "auc_values_test = []\n",
    "\n",
    "candidate_variables = list(donors_scaled.columns[1:])\n",
    "current_variables = []\n",
    "target = ['target']\n",
    "number_iterations = len(candidate_variables)\n",
    "\n",
    "print(number_iterations)"
   ]
  },
  {
   "cell_type": "code",
   "execution_count": 32,
   "metadata": {
    "scrolled": true
   },
   "outputs": [],
   "source": [
    "# Iterate over the variables\n",
    "for i in range(number_iterations):\n",
    "    # find the next best model with the train data\n",
    "    next_variable = next_best(current_variables, candidate_variables, target, train)\n",
    "    current_variables.append(next_variable)\n",
    "    candidate_variables.remove(next_variable)\n",
    "    \n",
    "    # Calculate the train and test AUC of the current of variables\n",
    "    auc_train = area_under_curve(current_variables, target, train)\n",
    "    auc_test = area_under_curve(current_variables, target, test)\n",
    "    \n",
    "    # Append the values to the lists\n",
    "    auc_values_train.append(auc_train)\n",
    "    auc_values_test.append(auc_test)"
   ]
  },
  {
   "cell_type": "code",
   "execution_count": 33,
   "metadata": {
    "scrolled": false
   },
   "outputs": [
    {
     "data": {
      "image/png": "[encoded data removed]",
      "text/plain": [
       "<Figure size 720x432 with 1 Axes>"
      ]
     },
     "metadata": {
      "needs_background": "light"
     },
     "output_type": "display_data"
    }
   ],
   "source": [
    "x = np.array(range(0,len(auc_values_train)))\n",
    "y_train = np.array(auc_values_train)\n",
    "y_test = np.array(auc_values_test)\n",
    "\n",
    "plt.figure(figsize=(10, 6))\n",
    "plt.xticks(x, current_variables, rotation=90)\n",
    "plt.plot(x, y_train, label='train')\n",
    "plt.plot(x, y_test, label='test')\n",
    "\n",
    "plt.ylim((0.6, 0.8))\n",
    "plt.legend(loc=\"upper left\")\n",
    "plt.show()"
   ]
  },
  {
   "cell_type": "raw",
   "metadata": {},
   "source": [
    "The training set accuracy reaches it's peak at 4 features"
   ]
  },
  {
   "cell_type": "code",
   "execution_count": 34,
   "metadata": {},
   "outputs": [],
   "source": [
    "variables = current_variables[:5]"
   ]
  },
  {
   "cell_type": "code",
   "execution_count": 35,
   "metadata": {
    "scrolled": true
   },
   "outputs": [
    {
     "data": {
      "text/plain": [
       "0.7728118956637386"
      ]
     },
     "execution_count": 35,
     "metadata": {},
     "output_type": "execute_result"
    }
   ],
   "source": [
    "logreg = LogisticRegression(random_state=1, max_iter=150)\n",
    "x = donors_scaled.iloc[:,1:]\n",
    "y = donors_scaled.iloc[:,0]\n",
    "\n",
    "logreg.fit(x, y)\n",
    "\n",
    "# predictions is a 2d array for plotting ROC curve\n",
    "predictions = logreg.predict_proba(x)\n",
    "\n",
    "\n",
    "roc_auc_score(y, predictions[:,1])"
   ]
  },
  {
   "cell_type": "markdown",
   "metadata": {},
   "source": [
    "### Cumulative gains curve shows us percentage donors reached at each percentage of the population\n",
    "\n",
    "### how many more times likely to reach targets in this sample than whole population"
   ]
  },
  {
   "cell_type": "code",
   "execution_count": 40,
   "metadata": {},
   "outputs": [
    {
     "data": {
      "image/png": "[encoded data removed]",
      "text/plain": [
       "<Figure size 720x432 with 1 Axes>"
      ]
     },
     "metadata": {
      "needs_background": "light"
     },
     "output_type": "display_data"
    }
   ],
   "source": [
    "import scikitplot as skplt\n",
    "plt.rcParams['figure.figsize']=(10,6)\n",
    "\n",
    "skplt.metrics.plot_cumulative_gain(y, predictions)\n",
    "plt.show()"
   ]
  },
  {
   "cell_type": "code",
   "execution_count": 39,
   "metadata": {
    "scrolled": false
   },
   "outputs": [
    {
     "data": {
      "image/png": "[encoded data removed]",
      "text/plain": [
       "<Figure size 720x432 with 1 Axes>"
      ]
     },
     "metadata": {
      "needs_background": "light"
     },
     "output_type": "display_data"
    }
   ],
   "source": [
    "plt.rcParams['figure.figsize']=(10,6)\n",
    "skplt.metrics.plot_lift_curve(y, predictions)\n",
    "plt.show()"
   ]
  },
  {
   "cell_type": "code",
   "execution_count": null,
   "metadata": {},
   "outputs": [],
   "source": []
  }
 ],
 "metadata": {
  "kernelspec": {
   "display_name": "Python 3 (ipykernel)",
   "language": "python",
   "name": "python3"
  },
  "language_info": {
   "codemirror_mode": {
    "name": "ipython",
    "version": 3
   },
   "file_extension": ".py",
   "mimetype": "text/x-python",
   "name": "python",
   "nbconvert_exporter": "python",
   "pygments_lexer": "ipython3",
   "version": "3.9.12"
  }
 },
 "nbformat": 4,
 "nbformat_minor": 4
}
