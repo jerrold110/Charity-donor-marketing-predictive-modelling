{
 "cells": [
  {
   "cell_type": "code",
   "execution_count": 1,
   "metadata": {},
   "outputs": [],
   "source": [
    "import pandas as pd\n",
    "import numpy as np"
   ]
  },
  {
   "cell_type": "code",
   "execution_count": 2,
   "metadata": {
    "scrolled": true
   },
   "outputs": [
    {
     "data": {
      "text/plain": [
       "(25000, 14)"
      ]
     },
     "execution_count": 2,
     "metadata": {},
     "output_type": "execute_result"
    }
   ],
   "source": [
    "donors = pd.read_csv('donations.csv')\n",
    "donors.shape"
   ]
  },
  {
   "cell_type": "code",
   "execution_count": 3,
   "metadata": {},
   "outputs": [
    {
     "data": {
      "text/plain": [
       "target                     int64\n",
       "gender_F                   int64\n",
       "income_high                int64\n",
       "income_low                 int64\n",
       "country_USA                int64\n",
       "country_India              int64\n",
       "country_UK                 int64\n",
       "age                        int64\n",
       "time_since_last_gift       int64\n",
       "time_since_first_gift      int64\n",
       "max_gift                 float64\n",
       "min_gift                 float64\n",
       "mean_gift                float64\n",
       "number_gift                int64\n",
       "dtype: object"
      ]
     },
     "execution_count": 3,
     "metadata": {},
     "output_type": "execute_result"
    }
   ],
   "source": [
    "donors.dtypes"
   ]
  },
  {
   "cell_type": "code",
   "execution_count": 4,
   "metadata": {
    "scrolled": false
   },
   "outputs": [
    {
     "data": {
      "text/html": [
       "<div>\n",
       "<style scoped>\n",
       "    .dataframe tbody tr th:only-of-type {\n",
       "        vertical-align: middle;\n",
       "    }\n",
       "\n",
       "    .dataframe tbody tr th {\n",
       "        vertical-align: top;\n",
       "    }\n",
       "\n",
       "    .dataframe thead th {\n",
       "        text-align: right;\n",
       "    }\n",
       "</style>\n",
       "<table border=\"1\" class=\"dataframe\">\n",
       "  <thead>\n",
       "    <tr style=\"text-align: right;\">\n",
       "      <th></th>\n",
       "      <th>target</th>\n",
       "      <th>gender_F</th>\n",
       "      <th>income_high</th>\n",
       "      <th>income_low</th>\n",
       "      <th>country_USA</th>\n",
       "      <th>country_India</th>\n",
       "      <th>country_UK</th>\n",
       "      <th>age</th>\n",
       "      <th>time_since_last_gift</th>\n",
       "      <th>time_since_first_gift</th>\n",
       "      <th>max_gift</th>\n",
       "      <th>min_gift</th>\n",
       "      <th>mean_gift</th>\n",
       "      <th>number_gift</th>\n",
       "    </tr>\n",
       "  </thead>\n",
       "  <tbody>\n",
       "    <tr>\n",
       "      <th>0</th>\n",
       "      <td>0</td>\n",
       "      <td>1</td>\n",
       "      <td>0</td>\n",
       "      <td>1</td>\n",
       "      <td>0</td>\n",
       "      <td>1</td>\n",
       "      <td>0</td>\n",
       "      <td>65</td>\n",
       "      <td>530</td>\n",
       "      <td>2265</td>\n",
       "      <td>166.0</td>\n",
       "      <td>87.0</td>\n",
       "      <td>116.00</td>\n",
       "      <td>7</td>\n",
       "    </tr>\n",
       "    <tr>\n",
       "      <th>1</th>\n",
       "      <td>0</td>\n",
       "      <td>1</td>\n",
       "      <td>0</td>\n",
       "      <td>0</td>\n",
       "      <td>0</td>\n",
       "      <td>1</td>\n",
       "      <td>0</td>\n",
       "      <td>71</td>\n",
       "      <td>715</td>\n",
       "      <td>715</td>\n",
       "      <td>90.0</td>\n",
       "      <td>90.0</td>\n",
       "      <td>90.00</td>\n",
       "      <td>1</td>\n",
       "    </tr>\n",
       "    <tr>\n",
       "      <th>2</th>\n",
       "      <td>0</td>\n",
       "      <td>1</td>\n",
       "      <td>0</td>\n",
       "      <td>0</td>\n",
       "      <td>0</td>\n",
       "      <td>1</td>\n",
       "      <td>0</td>\n",
       "      <td>28</td>\n",
       "      <td>150</td>\n",
       "      <td>1806</td>\n",
       "      <td>125.0</td>\n",
       "      <td>74.0</td>\n",
       "      <td>96.00</td>\n",
       "      <td>9</td>\n",
       "    </tr>\n",
       "    <tr>\n",
       "      <th>3</th>\n",
       "      <td>0</td>\n",
       "      <td>1</td>\n",
       "      <td>0</td>\n",
       "      <td>1</td>\n",
       "      <td>1</td>\n",
       "      <td>0</td>\n",
       "      <td>0</td>\n",
       "      <td>52</td>\n",
       "      <td>725</td>\n",
       "      <td>2274</td>\n",
       "      <td>117.0</td>\n",
       "      <td>97.0</td>\n",
       "      <td>104.25</td>\n",
       "      <td>4</td>\n",
       "    </tr>\n",
       "    <tr>\n",
       "      <th>4</th>\n",
       "      <td>0</td>\n",
       "      <td>1</td>\n",
       "      <td>1</td>\n",
       "      <td>0</td>\n",
       "      <td>1</td>\n",
       "      <td>0</td>\n",
       "      <td>0</td>\n",
       "      <td>82</td>\n",
       "      <td>805</td>\n",
       "      <td>805</td>\n",
       "      <td>80.0</td>\n",
       "      <td>80.0</td>\n",
       "      <td>80.00</td>\n",
       "      <td>1</td>\n",
       "    </tr>\n",
       "  </tbody>\n",
       "</table>\n",
       "</div>"
      ],
      "text/plain": [
       "   target  gender_F  income_high  income_low  country_USA  country_India  \\\n",
       "0       0         1            0           1            0              1   \n",
       "1       0         1            0           0            0              1   \n",
       "2       0         1            0           0            0              1   \n",
       "3       0         1            0           1            1              0   \n",
       "4       0         1            1           0            1              0   \n",
       "\n",
       "   country_UK  age  time_since_last_gift  time_since_first_gift  max_gift  \\\n",
       "0           0   65                   530                   2265     166.0   \n",
       "1           0   71                   715                    715      90.0   \n",
       "2           0   28                   150                   1806     125.0   \n",
       "3           0   52                   725                   2274     117.0   \n",
       "4           0   82                   805                    805      80.0   \n",
       "\n",
       "   min_gift  mean_gift  number_gift  \n",
       "0      87.0     116.00            7  \n",
       "1      90.0      90.00            1  \n",
       "2      74.0      96.00            9  \n",
       "3      97.0     104.25            4  \n",
       "4      80.0      80.00            1  "
      ]
     },
     "execution_count": 4,
     "metadata": {},
     "output_type": "execute_result"
    }
   ],
   "source": [
    "donors.head()"
   ]
  },
  {
   "cell_type": "raw",
   "metadata": {},
   "source": [
    "target: the target variable\n",
    "income:\n",
    "country:\n",
    "age:\n",
    "time_since_last_gift: number of days since last donation\n",
    "time_since_first_gift: number of days since first donation\n",
    "max_gift: largest donation in dollars\n",
    "min_gift: smalles donation in dollars\n",
    "mean_gift: mean value of all donations\n",
    "number_gift: number of donations"
   ]
  },
  {
   "cell_type": "code",
   "execution_count": 5,
   "metadata": {
    "scrolled": true
   },
   "outputs": [
    {
     "name": "stdout",
     "output_type": "stream",
     "text": [
      "1187 donors out of 25000\n"
     ]
    }
   ],
   "source": [
    "q = 'target'\n",
    "print(f'{sum(donors[q])} donors out of {donors.shape[0]}')"
   ]
  },
  {
   "cell_type": "code",
   "execution_count": 6,
   "metadata": {},
   "outputs": [
    {
     "data": {
      "text/plain": [
       "2"
      ]
     },
     "execution_count": 6,
     "metadata": {},
     "output_type": "execute_result"
    }
   ],
   "source": [
    "donors['gender_F'].nunique()"
   ]
  },
  {
   "cell_type": "markdown",
   "metadata": {},
   "source": [
    "# Preprocessing\n",
    "To keep this quick I will not do feature engineering. I will just do a simple plot of the non-binary features to look for features that have severe asymmetrical distributions and address them. I will also normalised feature scaling for the non-binary features.\n",
    "\n",
    "It seems time_since_first_gift is left skewed"
   ]
  },
  {
   "cell_type": "code",
   "execution_count": 7,
   "metadata": {},
   "outputs": [],
   "source": [
    "import seaborn as sns\n",
    "import matplotlib.pyplot as plt\n",
    "from sklearn.preprocessing import StandardScaler"
   ]
  },
  {
   "cell_type": "code",
   "execution_count": 8,
   "metadata": {
    "scrolled": true
   },
   "outputs": [
    {
     "data": {
      "image/png": "[encoded data removed]",
      "text/plain": [
       "<Figure size 720x288 with 1 Axes>"
      ]
     },
     "metadata": {
      "needs_background": "light"
     },
     "output_type": "display_data"
    },
    {
     "data": {
      "image/png": "[encoded data removed]",
      "text/plain": [
       "<Figure size 720x288 with 1 Axes>"
      ]
     },
     "metadata": {
      "needs_background": "light"
     },
     "output_type": "display_data"
    },
    {
     "data": {
      "image/png": "[encoded data removed]",
      "text/plain": [
       "<Figure size 720x288 with 1 Axes>"
      ]
     },
     "metadata": {
      "needs_background": "light"
     },
     "output_type": "display_data"
    },
    {
     "data": {
      "image/png": "[encoded data removed]",
      "text/plain": [
       "<Figure size 720x288 with 1 Axes>"
      ]
     },
     "metadata": {
      "needs_background": "light"
     },
     "output_type": "display_data"
    },
    {
     "data": {
      "image/png": "[encoded data removed]",
      "text/plain": [
       "<Figure size 720x288 with 1 Axes>"
      ]
     },
     "metadata": {
      "needs_background": "light"
     },
     "output_type": "display_data"
    },
    {
     "data": {
      "image/png": "[encoded data removed]",
      "text/plain": [
       "<Figure size 720x288 with 1 Axes>"
      ]
     },
     "metadata": {
      "needs_background": "light"
     },
     "output_type": "display_data"
    },
    {
     "data": {
      "image/png": "[encoded data removed]",
      "text/plain": [
       "<Figure size 720x288 with 1 Axes>"
      ]
     },
     "metadata": {
      "needs_background": "light"
     },
     "output_type": "display_data"
    }
   ],
   "source": [
    "for abc in donors.columns:\n",
    "    if (donors[abc].nunique()>2):\n",
    "        plt.figure(figsize=(10,4))\n",
    "        sns.histplot(data=donors, x=abc, bins=50, kde=True)\n",
    "        plt.show()"
   ]
  },
  {
   "cell_type": "code",
   "execution_count": 9,
   "metadata": {},
   "outputs": [
    {
     "data": {
      "image/png": "[encoded data removed]",
      "text/plain": [
       "<Figure size 720x288 with 1 Axes>"
      ]
     },
     "metadata": {
      "needs_background": "light"
     },
     "output_type": "display_data"
    }
   ],
   "source": [
    "donors['time_since_first_gift'] = np.square(donors['time_since_first_gift'])\n",
    "plt.figure(figsize=(10,4))\n",
    "sns.histplot(data=donors, x='time_since_first_gift', bins=50, kde=True)\n",
    "plt.show()"
   ]
  },
  {
   "cell_type": "markdown",
   "metadata": {},
   "source": [
    "# Feature selection"
   ]
  },
  {
   "cell_type": "code",
   "execution_count": 10,
   "metadata": {},
   "outputs": [],
   "source": [
    "from sklearn.linear_model import LogisticRegression\n",
    "from sklearn.metrics import roc_auc_score\n",
    "from sklearn.preprocessing import StandardScaler"
   ]
  },
  {
   "cell_type": "code",
   "execution_count": 11,
   "metadata": {},
   "outputs": [
    {
     "data": {
      "text/html": [
       "<div>\n",
       "<style scoped>\n",
       "    .dataframe tbody tr th:only-of-type {\n",
       "        vertical-align: middle;\n",
       "    }\n",
       "\n",
       "    .dataframe tbody tr th {\n",
       "        vertical-align: top;\n",
       "    }\n",
       "\n",
       "    .dataframe thead th {\n",
       "        text-align: right;\n",
       "    }\n",
       "</style>\n",
       "<table border=\"1\" class=\"dataframe\">\n",
       "  <thead>\n",
       "    <tr style=\"text-align: right;\">\n",
       "      <th></th>\n",
       "      <th>target</th>\n",
       "      <th>gender_F</th>\n",
       "      <th>income_high</th>\n",
       "      <th>income_low</th>\n",
       "      <th>country_USA</th>\n",
       "      <th>country_India</th>\n",
       "      <th>country_UK</th>\n",
       "      <th>age</th>\n",
       "      <th>time_since_last_gift</th>\n",
       "      <th>time_since_first_gift</th>\n",
       "      <th>max_gift</th>\n",
       "      <th>min_gift</th>\n",
       "      <th>mean_gift</th>\n",
       "      <th>number_gift</th>\n",
       "    </tr>\n",
       "  </thead>\n",
       "  <tbody>\n",
       "    <tr>\n",
       "      <th>0</th>\n",
       "      <td>0</td>\n",
       "      <td>0.99370</td>\n",
       "      <td>-0.443430</td>\n",
       "      <td>1.950147</td>\n",
       "      <td>-0.821473</td>\n",
       "      <td>1.009727</td>\n",
       "      <td>-0.336878</td>\n",
       "      <td>0.655543</td>\n",
       "      <td>-0.665671</td>\n",
       "      <td>0.028373</td>\n",
       "      <td>2.690866</td>\n",
       "      <td>0.854841</td>\n",
       "      <td>1.651635</td>\n",
       "      <td>0.624962</td>\n",
       "    </tr>\n",
       "    <tr>\n",
       "      <th>1</th>\n",
       "      <td>0</td>\n",
       "      <td>0.99370</td>\n",
       "      <td>-0.443430</td>\n",
       "      <td>-0.512782</td>\n",
       "      <td>-0.821473</td>\n",
       "      <td>1.009727</td>\n",
       "      <td>-0.336878</td>\n",
       "      <td>1.000719</td>\n",
       "      <td>-0.125177</td>\n",
       "      <td>-1.992285</td>\n",
       "      <td>-1.038789</td>\n",
       "      <td>1.004207</td>\n",
       "      <td>-0.029480</td>\n",
       "      <td>-1.488442</td>\n",
       "    </tr>\n",
       "    <tr>\n",
       "      <th>2</th>\n",
       "      <td>0</td>\n",
       "      <td>0.99370</td>\n",
       "      <td>-0.443430</td>\n",
       "      <td>-0.512782</td>\n",
       "      <td>-0.821473</td>\n",
       "      <td>1.009727</td>\n",
       "      <td>-0.336878</td>\n",
       "      <td>-1.473044</td>\n",
       "      <td>-1.775874</td>\n",
       "      <td>-0.789072</td>\n",
       "      <td>0.678815</td>\n",
       "      <td>0.207586</td>\n",
       "      <td>0.358470</td>\n",
       "      <td>1.329429</td>\n",
       "    </tr>\n",
       "    <tr>\n",
       "      <th>3</th>\n",
       "      <td>0</td>\n",
       "      <td>0.99370</td>\n",
       "      <td>-0.443430</td>\n",
       "      <td>1.950147</td>\n",
       "      <td>1.217326</td>\n",
       "      <td>-0.990366</td>\n",
       "      <td>-0.336878</td>\n",
       "      <td>-0.092339</td>\n",
       "      <td>-0.095961</td>\n",
       "      <td>0.046244</td>\n",
       "      <td>0.286220</td>\n",
       "      <td>1.352729</td>\n",
       "      <td>0.891900</td>\n",
       "      <td>-0.431740</td>\n",
       "    </tr>\n",
       "    <tr>\n",
       "      <th>4</th>\n",
       "      <td>0</td>\n",
       "      <td>0.99370</td>\n",
       "      <td>2.255147</td>\n",
       "      <td>-0.512782</td>\n",
       "      <td>1.217326</td>\n",
       "      <td>-0.990366</td>\n",
       "      <td>-0.336878</td>\n",
       "      <td>1.633542</td>\n",
       "      <td>0.137766</td>\n",
       "      <td>-1.932439</td>\n",
       "      <td>-1.529534</td>\n",
       "      <td>0.506319</td>\n",
       "      <td>-0.676062</td>\n",
       "      <td>-1.488442</td>\n",
       "    </tr>\n",
       "    <tr>\n",
       "      <th>...</th>\n",
       "      <td>...</td>\n",
       "      <td>...</td>\n",
       "      <td>...</td>\n",
       "      <td>...</td>\n",
       "      <td>...</td>\n",
       "      <td>...</td>\n",
       "      <td>...</td>\n",
       "      <td>...</td>\n",
       "      <td>...</td>\n",
       "      <td>...</td>\n",
       "      <td>...</td>\n",
       "      <td>...</td>\n",
       "      <td>...</td>\n",
       "      <td>...</td>\n",
       "    </tr>\n",
       "    <tr>\n",
       "      <th>24995</th>\n",
       "      <td>0</td>\n",
       "      <td>0.99370</td>\n",
       "      <td>-0.443430</td>\n",
       "      <td>-0.512782</td>\n",
       "      <td>1.217326</td>\n",
       "      <td>-0.990366</td>\n",
       "      <td>-0.336878</td>\n",
       "      <td>0.713072</td>\n",
       "      <td>-1.027948</td>\n",
       "      <td>0.884066</td>\n",
       "      <td>-0.842492</td>\n",
       "      <td>-1.335869</td>\n",
       "      <td>-1.411550</td>\n",
       "      <td>0.977195</td>\n",
       "    </tr>\n",
       "    <tr>\n",
       "      <th>24996</th>\n",
       "      <td>0</td>\n",
       "      <td>-1.00634</td>\n",
       "      <td>-0.443430</td>\n",
       "      <td>-0.512782</td>\n",
       "      <td>-0.821473</td>\n",
       "      <td>1.009727</td>\n",
       "      <td>-0.336878</td>\n",
       "      <td>-0.207398</td>\n",
       "      <td>-0.399806</td>\n",
       "      <td>0.437905</td>\n",
       "      <td>1.022336</td>\n",
       "      <td>2.348507</td>\n",
       "      <td>2.201230</td>\n",
       "      <td>-1.136208</td>\n",
       "    </tr>\n",
       "    <tr>\n",
       "      <th>24997</th>\n",
       "      <td>0</td>\n",
       "      <td>-1.00634</td>\n",
       "      <td>-0.443430</td>\n",
       "      <td>-0.512782</td>\n",
       "      <td>-0.821473</td>\n",
       "      <td>1.009727</td>\n",
       "      <td>-0.336878</td>\n",
       "      <td>1.518483</td>\n",
       "      <td>0.339355</td>\n",
       "      <td>-0.206886</td>\n",
       "      <td>0.286220</td>\n",
       "      <td>1.004207</td>\n",
       "      <td>0.843407</td>\n",
       "      <td>-1.136208</td>\n",
       "    </tr>\n",
       "    <tr>\n",
       "      <th>24998</th>\n",
       "      <td>0</td>\n",
       "      <td>-1.00634</td>\n",
       "      <td>2.255147</td>\n",
       "      <td>-0.512782</td>\n",
       "      <td>1.217326</td>\n",
       "      <td>-0.990366</td>\n",
       "      <td>-0.336878</td>\n",
       "      <td>1.806130</td>\n",
       "      <td>0.602298</td>\n",
       "      <td>0.251656</td>\n",
       "      <td>-0.155450</td>\n",
       "      <td>-0.389881</td>\n",
       "      <td>-0.762273</td>\n",
       "      <td>-0.783974</td>\n",
       "    </tr>\n",
       "    <tr>\n",
       "      <th>24999</th>\n",
       "      <td>0</td>\n",
       "      <td>0.99370</td>\n",
       "      <td>-0.443430</td>\n",
       "      <td>1.950147</td>\n",
       "      <td>1.217326</td>\n",
       "      <td>-0.990366</td>\n",
       "      <td>-0.336878</td>\n",
       "      <td>-0.725162</td>\n",
       "      <td>1.557657</td>\n",
       "      <td>-0.098590</td>\n",
       "      <td>0.237145</td>\n",
       "      <td>-0.389881</td>\n",
       "      <td>0.210679</td>\n",
       "      <td>0.624962</td>\n",
       "    </tr>\n",
       "  </tbody>\n",
       "</table>\n",
       "<p>25000 rows × 14 columns</p>\n",
       "</div>"
      ],
      "text/plain": [
       "       target  gender_F  income_high  income_low  country_USA  country_India  \\\n",
       "0           0   0.99370    -0.443430    1.950147    -0.821473       1.009727   \n",
       "1           0   0.99370    -0.443430   -0.512782    -0.821473       1.009727   \n",
       "2           0   0.99370    -0.443430   -0.512782    -0.821473       1.009727   \n",
       "3           0   0.99370    -0.443430    1.950147     1.217326      -0.990366   \n",
       "4           0   0.99370     2.255147   -0.512782     1.217326      -0.990366   \n",
       "...       ...       ...          ...         ...          ...            ...   \n",
       "24995       0   0.99370    -0.443430   -0.512782     1.217326      -0.990366   \n",
       "24996       0  -1.00634    -0.443430   -0.512782    -0.821473       1.009727   \n",
       "24997       0  -1.00634    -0.443430   -0.512782    -0.821473       1.009727   \n",
       "24998       0  -1.00634     2.255147   -0.512782     1.217326      -0.990366   \n",
       "24999       0   0.99370    -0.443430    1.950147     1.217326      -0.990366   \n",
       "\n",
       "       country_UK       age  time_since_last_gift  time_since_first_gift  \\\n",
       "0       -0.336878  0.655543             -0.665671               0.028373   \n",
       "1       -0.336878  1.000719             -0.125177              -1.992285   \n",
       "2       -0.336878 -1.473044             -1.775874              -0.789072   \n",
       "3       -0.336878 -0.092339             -0.095961               0.046244   \n",
       "4       -0.336878  1.633542              0.137766              -1.932439   \n",
       "...           ...       ...                   ...                    ...   \n",
       "24995   -0.336878  0.713072             -1.027948               0.884066   \n",
       "24996   -0.336878 -0.207398             -0.399806               0.437905   \n",
       "24997   -0.336878  1.518483              0.339355              -0.206886   \n",
       "24998   -0.336878  1.806130              0.602298               0.251656   \n",
       "24999   -0.336878 -0.725162              1.557657              -0.098590   \n",
       "\n",
       "       max_gift  min_gift  mean_gift  number_gift  \n",
       "0      2.690866  0.854841   1.651635     0.624962  \n",
       "1     -1.038789  1.004207  -0.029480    -1.488442  \n",
       "2      0.678815  0.207586   0.358470     1.329429  \n",
       "3      0.286220  1.352729   0.891900    -0.431740  \n",
       "4     -1.529534  0.506319  -0.676062    -1.488442  \n",
       "...         ...       ...        ...          ...  \n",
       "24995 -0.842492 -1.335869  -1.411550     0.977195  \n",
       "24996  1.022336  2.348507   2.201230    -1.136208  \n",
       "24997  0.286220  1.004207   0.843407    -1.136208  \n",
       "24998 -0.155450 -0.389881  -0.762273    -0.783974  \n",
       "24999  0.237145 -0.389881   0.210679     0.624962  \n",
       "\n",
       "[25000 rows x 14 columns]"
      ]
     },
     "execution_count": 11,
     "metadata": {},
     "output_type": "execute_result"
    }
   ],
   "source": [
    "# Scale all the features except target\n",
    "# scaling the binary features does nothing, but does no harm, so I will let them get scaled\n",
    "S = StandardScaler()\n",
    "S.fit(donors)\n",
    "donors_scaled = pd.DataFrame(data=S.transform(donors), index=donors.index, columns=donors.columns)\n",
    "donors_scaled['target'] = donors['target']\n",
    "donors_scaled"
   ]
  },
  {
   "cell_type": "raw",
   "metadata": {},
   "source": [
    "ROC curve is a performance measurement for the classification problems at various threshold settings"
   ]
  },
  {
   "cell_type": "markdown",
   "metadata": {},
   "source": [
    "### Testing a base model"
   ]
  },
  {
   "cell_type": "code",
   "execution_count": 12,
   "metadata": {},
   "outputs": [],
   "source": [
    "def area_under_curve(variables, target, basetable):\n",
    "    X = basetable[variables].values\n",
    "    Y = np.squeeze(basetable[target].values)\n",
    "    logreg = LogisticRegression(random_state=1, max_iter=150)\n",
    "    logreg.fit(X, Y)\n",
    "    predictions = logreg.predict_proba(X)[:,1]\n",
    "    \n",
    "    auc = roc_auc_score(Y, predictions)\n",
    "    return auc"
   ]
  },
  {
   "cell_type": "code",
   "execution_count": 13,
   "metadata": {
    "scrolled": true
   },
   "outputs": [
    {
     "name": "stdout",
     "output_type": "stream",
     "text": [
      "0.5434\n"
     ]
    }
   ],
   "source": [
    "auc = area_under_curve(['age', 'gender_F'], ['target'], donors)\n",
    "print(round(auc, 4))"
   ]
  },
  {
   "cell_type": "markdown",
   "metadata": {},
   "source": [
    "### Testing a model with best feature selection algoithm based on AUC score"
   ]
  },
  {
   "cell_type": "code",
   "execution_count": 14,
   "metadata": {},
   "outputs": [],
   "source": [
    "# check the auc score of all candidate variables and return the best variable\n",
    "def next_best(current_variables, candidate_variables, target, basetable):\n",
    "    best_auc = -1\n",
    "    best_variable = None\n",
    "    for v in candidate_variables:\n",
    "        auc_v = area_under_curve(current_variables + [v], target, basetable)\n",
    "        if auc_v >= best_auc:\n",
    "            best_auc = auc_v\n",
    "            best_variable = v\n",
    "            \n",
    "    return best_variable"
   ]
  },
  {
   "cell_type": "code",
   "execution_count": 15,
   "metadata": {},
   "outputs": [
    {
     "name": "stdout",
     "output_type": "stream",
     "text": [
      "max_gift\n"
     ]
    }
   ],
   "source": [
    "current_variables = ['age', 'gender_F']\n",
    "candidate_variables = ['min_gift', 'max_gift', 'mean_gift']\n",
    "target = ['target']\n",
    "\n",
    "next_variable = next_best(current_variables, candidate_variables, target, donors)\n",
    "print(next_variable)"
   ]
  },
  {
   "cell_type": "code",
   "execution_count": 16,
   "metadata": {
    "scrolled": true
   },
   "outputs": [
    {
     "name": "stdout",
     "output_type": "stream",
     "text": [
      "['max_gift', 'age', 'mean_gift', 'min_gift', 'income_low']\n"
     ]
    }
   ],
   "source": [
    "candidate_variables = ['min_gift', 'max_gift', 'mean_gift', 'age', 'gender_F', 'country_USA', 'income_low']\n",
    "current_variables = []\n",
    "target = ['target']\n",
    "\n",
    "max_variables = 5\n",
    "number_iterations = min(max_variables, len(candidate_variables))\n",
    "\n",
    "for i in range(number_iterations):\n",
    "    next_variable = next_best(current_variables, candidate_variables, target, donors)\n",
    "    current_variables.append(next_variable)\n",
    "    candidate_variables.remove(next_variable)\n",
    "    \n",
    "print(current_variables)"
   ]
  },
  {
   "cell_type": "code",
   "execution_count": 17,
   "metadata": {},
   "outputs": [
    {
     "name": "stdout",
     "output_type": "stream",
     "text": [
      "0.7155\n"
     ]
    }
   ],
   "source": [
    "auc = area_under_curve(current_variables, ['target'], donors)\n",
    "print(round(auc, 4))"
   ]
  },
  {
   "cell_type": "markdown",
   "metadata": {},
   "source": [
    "### Running next best algorithm on all features"
   ]
  },
  {
   "cell_type": "code",
   "execution_count": 18,
   "metadata": {},
   "outputs": [
    {
     "name": "stdout",
     "output_type": "stream",
     "text": [
      "['max_gift', 'number_gift', 'time_since_last_gift', 'mean_gift', 'age']\n"
     ]
    }
   ],
   "source": [
    "candidate_variables = list(donors.columns[1:])\n",
    "current_variables = []\n",
    "target = ['target']\n",
    "\n",
    "max_variables = 5\n",
    "number_iterations = min(max_variables, len(candidate_variables))\n",
    "\n",
    "for i in range(number_iterations):\n",
    "    next_variable = next_best(current_variables, candidate_variables, target, donors)\n",
    "    current_variables.append(next_variable)\n",
    "    candidate_variables.remove(next_variable)\n",
    "    \n",
    "print(current_variables)"
   ]
  },
  {
   "cell_type": "code",
   "execution_count": 19,
   "metadata": {},
   "outputs": [
    {
     "name": "stdout",
     "output_type": "stream",
     "text": [
      "0.769\n"
     ]
    }
   ],
   "source": [
    "auc = area_under_curve(current_variables, ['target'], donors)\n",
    "print(round(auc, 4))"
   ]
  },
  {
   "cell_type": "markdown",
   "metadata": {},
   "source": [
    "### Plotting AUC curves of a train/test split to determine best number of features to use\n",
    "* #### We want the model to be as accurate as possible\n",
    "* #### We do not want the model to be overly complex (bad out of sample accuracy) by reducing number of features"
   ]
  },
  {
   "cell_type": "code",
   "execution_count": 20,
   "metadata": {},
   "outputs": [],
   "source": [
    "from sklearn.model_selection import train_test_split\n",
    "import numpy as np\n",
    "import matplotlib.pyplot as plt"
   ]
  },
  {
   "cell_type": "code",
   "execution_count": 21,
   "metadata": {
    "scrolled": true
   },
   "outputs": [
    {
     "name": "stdout",
     "output_type": "stream",
     "text": [
      "0.05\n",
      "0.05\n"
     ]
    },
    {
     "name": "stderr",
     "output_type": "stream",
     "text": [
      "C:\\Users\\jerro\\AppData\\Local\\Temp\\ipykernel_12664\\1449941887.py:2: FutureWarning: In a future version of pandas all arguments of DataFrame.drop except for the argument 'labels' will be keyword-only.\n",
      "  x = donors_scaled.drop('target', 1)\n"
     ]
    }
   ],
   "source": [
    "y = donors_scaled[['target']]\n",
    "x = donors_scaled.drop('target', 1)\n",
    "\n",
    "x_train, x_test, y_train, y_test = train_test_split(x, y, test_size=0.4, stratify=y)\n",
    "\n",
    "print(round(sum(y_train.target)/len(x_train), 2))\n",
    "print(round(sum(y_test.target)/len(x_test), 2))"
   ]
  },
  {
   "cell_type": "code",
   "execution_count": 22,
   "metadata": {
    "scrolled": false
   },
   "outputs": [],
   "source": [
    "train = pd.concat([y_train, x_train], axis=1)\n",
    "test = pd.concat([y_test, x_test], axis=1)"
   ]
  },
  {
   "cell_type": "code",
   "execution_count": 23,
   "metadata": {},
   "outputs": [],
   "source": [
    "# raising max_iter so as to not run into errors\n",
    "def area_under_curve(variables, target, basetable):\n",
    "    X = basetable[variables].values\n",
    "    Y = np.squeeze(basetable[target].values)\n",
    "    logreg = LogisticRegression(random_state=1, max_iter=1500)\n",
    "    logreg.fit(X, Y)\n",
    "    predictions = logreg.predict_proba(X)[:,1]\n",
    "    \n",
    "    auc = roc_auc_score(Y, predictions)\n",
    "    return auc"
   ]
  },
  {
   "cell_type": "code",
   "execution_count": 24,
   "metadata": {},
   "outputs": [
    {
     "name": "stdout",
     "output_type": "stream",
     "text": [
      "13\n"
     ]
    }
   ],
   "source": [
    "# Store the train and test AUC\n",
    "auc_values_train = []\n",
    "auc_values_test = []\n",
    "\n",
    "candidate_variables = list(donors.columns[1:])\n",
    "current_variables = []\n",
    "target = ['target']\n",
    "number_iterations = len(candidate_variables)\n",
    "\n",
    "print(number_iterations)"
   ]
  },
  {
   "cell_type": "code",
   "execution_count": 25,
   "metadata": {
    "scrolled": true
   },
   "outputs": [],
   "source": [
    "# Iterate over the variables\n",
    "for i in range(number_iterations):\n",
    "    # find the next best model with the train data\n",
    "    next_variable = next_best(current_variables, candidate_variables, target, train)\n",
    "    current_variables.append(next_variable)\n",
    "    candidate_variables.remove(next_variable)\n",
    "    \n",
    "    # Calculate the train and test AUC of the current of variables\n",
    "    auc_train = area_under_curve(current_variables, target, train)\n",
    "    auc_test = area_under_curve(current_variables, target, test)\n",
    "    \n",
    "    # Append the values to the lists\n",
    "    auc_values_train.append(auc_train)\n",
    "    auc_values_test.append(auc_test)"
   ]
  },
  {
   "cell_type": "code",
   "execution_count": 26,
   "metadata": {},
   "outputs": [
    {
     "data": {
      "image/png": "[encoded data removed]",
      "text/plain": [
       "<Figure size 720x432 with 1 Axes>"
      ]
     },
     "metadata": {
      "needs_background": "light"
     },
     "output_type": "display_data"
    }
   ],
   "source": [
    "x = np.array(range(0,len(auc_values_train)))\n",
    "y_train = np.array(auc_values_train)\n",
    "y_test = np.array(auc_values_test)\n",
    "\n",
    "plt.figure(figsize=(10, 6))\n",
    "plt.xticks(x, current_variables, rotation=90)\n",
    "plt.plot(x, y_train, label='train')\n",
    "plt.plot(x, y_test, label='test')\n",
    "\n",
    "plt.ylim((0.5, 0.8))\n",
    "plt.legend(loc=\"upper left\")\n",
    "plt.show()"
   ]
  },
  {
   "cell_type": "code",
   "execution_count": null,
   "metadata": {},
   "outputs": [],
   "source": []
  }
 ],
 "metadata": {
  "kernelspec": {
   "display_name": "Python 3 (ipykernel)",
   "language": "python",
   "name": "python3"
  },
  "language_info": {
   "codemirror_mode": {
    "name": "ipython",
    "version": 3
   },
   "file_extension": ".py",
   "mimetype": "text/x-python",
   "name": "python",
   "nbconvert_exporter": "python",
   "pygments_lexer": "ipython3",
   "version": "3.9.12"
  }
 },
 "nbformat": 4,
 "nbformat_minor": 4
}
